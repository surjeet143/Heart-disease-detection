{
 "cells": [
  {
   "cell_type": "markdown",
   "metadata": {},
   "source": [
    "# Import Packages"
   ]
  },
  {
   "cell_type": "code",
   "execution_count": 1,
   "metadata": {},
   "outputs": [],
   "source": [
    "import pandas as pd\n",
    "import numpy as np\n",
    "from sklearn.base import BaseEstimator, RegressorMixin, TransformerMixin\n",
    "from sklearn.preprocessing import OneHotEncoder, LabelEncoder\n",
    "from sklearn.pipeline import Pipeline, FeatureUnion\n",
    "from sklearn.ensemble import RandomForestClassifier\n",
    "from sklearn.metrics import log_loss\n",
    "from sklearn.model_selection import GridSearchCV\n",
    "from sklearn.linear_model import LogisticRegression\n",
    "import matplotlib.pyplot as plt\n",
    "from sklearn.model_selection import train_test_split\n",
    "import seaborn as sns\n",
    "import pickle"
   ]
  },
  {
   "cell_type": "markdown",
   "metadata": {},
   "source": [
    "# Import Data"
   ]
  },
  {
   "cell_type": "code",
   "execution_count": 2,
   "metadata": {},
   "outputs": [],
   "source": [
    "X = pd.read_csv('data/train_values.csv', index_col='patient_id')"
   ]
  },
  {
   "cell_type": "code",
   "execution_count": 77,
   "metadata": {},
   "outputs": [
    {
     "data": {
      "text/html": [
       "<div>\n",
       "<style scoped>\n",
       "    .dataframe tbody tr th:only-of-type {\n",
       "        vertical-align: middle;\n",
       "    }\n",
       "\n",
       "    .dataframe tbody tr th {\n",
       "        vertical-align: top;\n",
       "    }\n",
       "\n",
       "    .dataframe thead th {\n",
       "        text-align: right;\n",
       "    }\n",
       "</style>\n",
       "<table border=\"1\" class=\"dataframe\">\n",
       "  <thead>\n",
       "    <tr style=\"text-align: right;\">\n",
       "      <th></th>\n",
       "      <th>slope_of_peak_exercise_st_segment</th>\n",
       "      <th>thal</th>\n",
       "      <th>resting_blood_pressure</th>\n",
       "      <th>chest_pain_type</th>\n",
       "      <th>num_major_vessels</th>\n",
       "      <th>fasting_blood_sugar_gt_120_mg_per_dl</th>\n",
       "      <th>resting_ekg_results</th>\n",
       "      <th>serum_cholesterol_mg_per_dl</th>\n",
       "      <th>oldpeak_eq_st_depression</th>\n",
       "      <th>sex</th>\n",
       "      <th>age</th>\n",
       "      <th>max_heart_rate_achieved</th>\n",
       "      <th>exercise_induced_angina</th>\n",
       "    </tr>\n",
       "    <tr>\n",
       "      <th>patient_id</th>\n",
       "      <th></th>\n",
       "      <th></th>\n",
       "      <th></th>\n",
       "      <th></th>\n",
       "      <th></th>\n",
       "      <th></th>\n",
       "      <th></th>\n",
       "      <th></th>\n",
       "      <th></th>\n",
       "      <th></th>\n",
       "      <th></th>\n",
       "      <th></th>\n",
       "      <th></th>\n",
       "    </tr>\n",
       "  </thead>\n",
       "  <tbody>\n",
       "    <tr>\n",
       "      <th>0z64un</th>\n",
       "      <td>1</td>\n",
       "      <td>normal</td>\n",
       "      <td>128</td>\n",
       "      <td>2</td>\n",
       "      <td>0</td>\n",
       "      <td>0</td>\n",
       "      <td>2</td>\n",
       "      <td>308</td>\n",
       "      <td>0.0</td>\n",
       "      <td>1</td>\n",
       "      <td>45</td>\n",
       "      <td>170</td>\n",
       "      <td>0</td>\n",
       "    </tr>\n",
       "    <tr>\n",
       "      <th>ryoo3j</th>\n",
       "      <td>2</td>\n",
       "      <td>normal</td>\n",
       "      <td>110</td>\n",
       "      <td>3</td>\n",
       "      <td>0</td>\n",
       "      <td>0</td>\n",
       "      <td>0</td>\n",
       "      <td>214</td>\n",
       "      <td>1.6</td>\n",
       "      <td>0</td>\n",
       "      <td>54</td>\n",
       "      <td>158</td>\n",
       "      <td>0</td>\n",
       "    </tr>\n",
       "    <tr>\n",
       "      <th>yt1s1x</th>\n",
       "      <td>1</td>\n",
       "      <td>normal</td>\n",
       "      <td>125</td>\n",
       "      <td>4</td>\n",
       "      <td>3</td>\n",
       "      <td>0</td>\n",
       "      <td>2</td>\n",
       "      <td>304</td>\n",
       "      <td>0.0</td>\n",
       "      <td>1</td>\n",
       "      <td>77</td>\n",
       "      <td>162</td>\n",
       "      <td>1</td>\n",
       "    </tr>\n",
       "    <tr>\n",
       "      <th>l2xjde</th>\n",
       "      <td>1</td>\n",
       "      <td>reversible_defect</td>\n",
       "      <td>152</td>\n",
       "      <td>4</td>\n",
       "      <td>0</td>\n",
       "      <td>0</td>\n",
       "      <td>0</td>\n",
       "      <td>223</td>\n",
       "      <td>0.0</td>\n",
       "      <td>1</td>\n",
       "      <td>40</td>\n",
       "      <td>181</td>\n",
       "      <td>0</td>\n",
       "    </tr>\n",
       "    <tr>\n",
       "      <th>oyt4ek</th>\n",
       "      <td>3</td>\n",
       "      <td>reversible_defect</td>\n",
       "      <td>178</td>\n",
       "      <td>1</td>\n",
       "      <td>0</td>\n",
       "      <td>0</td>\n",
       "      <td>2</td>\n",
       "      <td>270</td>\n",
       "      <td>4.2</td>\n",
       "      <td>1</td>\n",
       "      <td>59</td>\n",
       "      <td>145</td>\n",
       "      <td>0</td>\n",
       "    </tr>\n",
       "  </tbody>\n",
       "</table>\n",
       "</div>"
      ],
      "text/plain": [
       "            slope_of_peak_exercise_st_segment               thal  \\\n",
       "patient_id                                                         \n",
       "0z64un                                      1             normal   \n",
       "ryoo3j                                      2             normal   \n",
       "yt1s1x                                      1             normal   \n",
       "l2xjde                                      1  reversible_defect   \n",
       "oyt4ek                                      3  reversible_defect   \n",
       "\n",
       "            resting_blood_pressure  chest_pain_type  num_major_vessels  \\\n",
       "patient_id                                                               \n",
       "0z64un                         128                2                  0   \n",
       "ryoo3j                         110                3                  0   \n",
       "yt1s1x                         125                4                  3   \n",
       "l2xjde                         152                4                  0   \n",
       "oyt4ek                         178                1                  0   \n",
       "\n",
       "            fasting_blood_sugar_gt_120_mg_per_dl  resting_ekg_results  \\\n",
       "patient_id                                                              \n",
       "0z64un                                         0                    2   \n",
       "ryoo3j                                         0                    0   \n",
       "yt1s1x                                         0                    2   \n",
       "l2xjde                                         0                    0   \n",
       "oyt4ek                                         0                    2   \n",
       "\n",
       "            serum_cholesterol_mg_per_dl  oldpeak_eq_st_depression  sex  age  \\\n",
       "patient_id                                                                    \n",
       "0z64un                              308                       0.0    1   45   \n",
       "ryoo3j                              214                       1.6    0   54   \n",
       "yt1s1x                              304                       0.0    1   77   \n",
       "l2xjde                              223                       0.0    1   40   \n",
       "oyt4ek                              270                       4.2    1   59   \n",
       "\n",
       "            max_heart_rate_achieved  exercise_induced_angina  \n",
       "patient_id                                                    \n",
       "0z64un                          170                        0  \n",
       "ryoo3j                          158                        0  \n",
       "yt1s1x                          162                        1  \n",
       "l2xjde                          181                        0  \n",
       "oyt4ek                          145                        0  "
      ]
     },
     "execution_count": 77,
     "metadata": {},
     "output_type": "execute_result"
    }
   ],
   "source": [
    "X.head()"
   ]
  },
  {
   "cell_type": "markdown",
   "metadata": {},
   "source": [
    "We can see from the above output that our dataset have three types of features catagorical, numerical and binary features. We will separate those features."
   ]
  },
  {
   "cell_type": "code",
   "execution_count": 3,
   "metadata": {},
   "outputs": [],
   "source": [
    "numerical_features = ['slope_of_peak_exercise_st_segment', \n",
    "                      'resting_blood_pressure', \n",
    "                      'num_major_vessels',\n",
    "                      'fasting_blood_sugar_gt_120_mg_per_dl',\n",
    "                      'serum_cholesterol_mg_per_dl',\n",
    "                      'oldpeak_eq_st_depression',\n",
    "                      'age',\n",
    "                      'max_heart_rate_achieved']\n",
    "\n",
    "categorical_features = ['thal',\n",
    "                        'chest_pain_type', \n",
    "                        'resting_ekg_results']\n",
    "\n",
    "binary_features = ['sex',\n",
    "                   'exercise_induced_angina']"
   ]
  },
  {
   "cell_type": "markdown",
   "metadata": {},
   "source": [
    "# Import label"
   ]
  },
  {
   "cell_type": "code",
   "execution_count": 4,
   "metadata": {},
   "outputs": [],
   "source": [
    "y = pd.read_csv('data/train_labels.csv', index_col='patient_id')['heart_disease_present']"
   ]
  },
  {
   "cell_type": "markdown",
   "metadata": {},
   "source": [
    "# Correlation plot for features"
   ]
  },
  {
   "cell_type": "code",
   "execution_count": 228,
   "metadata": {},
   "outputs": [
    {
     "data": {
      "image/png": "[encoded data removed]",
      "text/plain": [
       "<Figure size 288x288 with 2 Axes>"
      ]
     },
     "metadata": {
      "needs_background": "light"
     },
     "output_type": "display_data"
    }
   ],
   "source": [
    "plt.matshow(X.corr())\n",
    "plt.xticks(range(X.shape[1]), X.columns, rotation=90)\n",
    "plt.yticks(range(X.shape[1]), X.columns)\n",
    "plt.colorbar()\n",
    "plt.show();"
   ]
  },
  {
   "cell_type": "markdown",
   "metadata": {},
   "source": [
    "Above plot shows the correlation between the different features of the given data. More bluish means there is low correlation and yellowish means there is a high correlation."
   ]
  },
  {
   "cell_type": "markdown",
   "metadata": {},
   "source": [
    "Now, let us see the violin plots of the all of the features. From these plots we can determine that how that particular feture is going to affect the label. If the violin plot look similar it means that feature is not much significant in the detection of the disease."
   ]
  },
  {
   "cell_type": "markdown",
   "metadata": {},
   "source": [
    "All of the above plots can be made at once just by using the following code."
   ]
  },
  {
   "cell_type": "markdown",
   "metadata": {},
   "source": [
    "# Transformers"
   ]
  },
  {
   "cell_type": "markdown",
   "metadata": {},
   "source": [
    "As we have seen that our data has some categorical features which we need to transform into the numerical values. We have to use the column transformer for that job. I have illustrated below, what it returns after executing."
   ]
  },
  {
   "cell_type": "code",
   "execution_count": 5,
   "metadata": {},
   "outputs": [],
   "source": [
    "class ColumnSelectTransformer(BaseEstimator, TransformerMixin):\n",
    "    def __init__(self, columns):\n",
    "        self.columns = columns\n",
    "\n",
    "    def fit(self, X, y=None):\n",
    "        return self\n",
    "\n",
    "    def transform(self, X):\n",
    "        if not isinstance(X, pd.DataFrame):\n",
    "            X = pd.DataFrame(X)\n",
    "        return X[self.columns]\n",
    "    \n",
    "class CustomLabelEncoder(BaseEstimator, TransformerMixin):\n",
    "    def fit(self, X, y=None):\n",
    "        self.labelers = {col: LabelEncoder().fit(X[col]) for col in X}\n",
    "        return self\n",
    "    \n",
    "    def transform(self, X):\n",
    "        return pd.DataFrame({col: self.labelers[col].transform(X[col])\n",
    "                            for col in X})"
   ]
  },
  {
   "attachments": {
    "image.png": {
     "image/png": "[encoded data removed]"
    }
   },
   "cell_type": "markdown",
   "metadata": {},
   "source": [
    "![image.png](attachment:image.png)"
   ]
  },
  {
   "cell_type": "code",
   "execution_count": 80,
   "metadata": {},
   "outputs": [],
   "source": [
    "import category_encoders as ce\n",
    "encoder = ce.HelmertEncoder(cols =categorical_features, drop_invariant=True )\n",
    "dfh = encoder.fit_transform(X_train[categorical_features])\n",
    "df = pd.concat([X_train, dfh], axis = 1)"
   ]
  },
  {
   "cell_type": "code",
   "execution_count": 81,
   "metadata": {},
   "outputs": [
    {
     "data": {
      "text/html": [
       "<div>\n",
       "<style scoped>\n",
       "    .dataframe tbody tr th:only-of-type {\n",
       "        vertical-align: middle;\n",
       "    }\n",
       "\n",
       "    .dataframe tbody tr th {\n",
       "        vertical-align: top;\n",
       "    }\n",
       "\n",
       "    .dataframe thead th {\n",
       "        text-align: right;\n",
       "    }\n",
       "</style>\n",
       "<table border=\"1\" class=\"dataframe\">\n",
       "  <thead>\n",
       "    <tr style=\"text-align: right;\">\n",
       "      <th></th>\n",
       "      <th>slope_of_peak_exercise_st_segment</th>\n",
       "      <th>thal</th>\n",
       "      <th>resting_blood_pressure</th>\n",
       "      <th>chest_pain_type</th>\n",
       "      <th>num_major_vessels</th>\n",
       "      <th>fasting_blood_sugar_gt_120_mg_per_dl</th>\n",
       "      <th>resting_ekg_results</th>\n",
       "      <th>serum_cholesterol_mg_per_dl</th>\n",
       "      <th>oldpeak_eq_st_depression</th>\n",
       "      <th>sex</th>\n",
       "      <th>age</th>\n",
       "      <th>max_heart_rate_achieved</th>\n",
       "      <th>exercise_induced_angina</th>\n",
       "      <th>thal_0</th>\n",
       "      <th>thal_1</th>\n",
       "      <th>chest_pain_type_0</th>\n",
       "      <th>chest_pain_type_1</th>\n",
       "      <th>chest_pain_type_2</th>\n",
       "      <th>resting_ekg_results_0</th>\n",
       "    </tr>\n",
       "    <tr>\n",
       "      <th>patient_id</th>\n",
       "      <th></th>\n",
       "      <th></th>\n",
       "      <th></th>\n",
       "      <th></th>\n",
       "      <th></th>\n",
       "      <th></th>\n",
       "      <th></th>\n",
       "      <th></th>\n",
       "      <th></th>\n",
       "      <th></th>\n",
       "      <th></th>\n",
       "      <th></th>\n",
       "      <th></th>\n",
       "      <th></th>\n",
       "      <th></th>\n",
       "      <th></th>\n",
       "      <th></th>\n",
       "      <th></th>\n",
       "      <th></th>\n",
       "    </tr>\n",
       "  </thead>\n",
       "  <tbody>\n",
       "    <tr>\n",
       "      <th>qyrkxn</th>\n",
       "      <td>2</td>\n",
       "      <td>normal</td>\n",
       "      <td>130</td>\n",
       "      <td>2</td>\n",
       "      <td>0</td>\n",
       "      <td>0</td>\n",
       "      <td>2</td>\n",
       "      <td>234</td>\n",
       "      <td>0.6</td>\n",
       "      <td>0</td>\n",
       "      <td>45</td>\n",
       "      <td>175</td>\n",
       "      <td>0</td>\n",
       "      <td>-1.0</td>\n",
       "      <td>-1.0</td>\n",
       "      <td>-1.0</td>\n",
       "      <td>-1.0</td>\n",
       "      <td>-1.0</td>\n",
       "      <td>-1.0</td>\n",
       "    </tr>\n",
       "    <tr>\n",
       "      <th>sqddbc</th>\n",
       "      <td>2</td>\n",
       "      <td>reversible_defect</td>\n",
       "      <td>180</td>\n",
       "      <td>3</td>\n",
       "      <td>0</td>\n",
       "      <td>1</td>\n",
       "      <td>2</td>\n",
       "      <td>274</td>\n",
       "      <td>1.6</td>\n",
       "      <td>1</td>\n",
       "      <td>68</td>\n",
       "      <td>150</td>\n",
       "      <td>1</td>\n",
       "      <td>1.0</td>\n",
       "      <td>-1.0</td>\n",
       "      <td>1.0</td>\n",
       "      <td>-1.0</td>\n",
       "      <td>-1.0</td>\n",
       "      <td>-1.0</td>\n",
       "    </tr>\n",
       "    <tr>\n",
       "      <th>6lu42b</th>\n",
       "      <td>2</td>\n",
       "      <td>reversible_defect</td>\n",
       "      <td>145</td>\n",
       "      <td>4</td>\n",
       "      <td>2</td>\n",
       "      <td>0</td>\n",
       "      <td>2</td>\n",
       "      <td>282</td>\n",
       "      <td>2.8</td>\n",
       "      <td>1</td>\n",
       "      <td>60</td>\n",
       "      <td>142</td>\n",
       "      <td>1</td>\n",
       "      <td>1.0</td>\n",
       "      <td>-1.0</td>\n",
       "      <td>0.0</td>\n",
       "      <td>2.0</td>\n",
       "      <td>-1.0</td>\n",
       "      <td>-1.0</td>\n",
       "    </tr>\n",
       "    <tr>\n",
       "      <th>nck22c</th>\n",
       "      <td>1</td>\n",
       "      <td>reversible_defect</td>\n",
       "      <td>126</td>\n",
       "      <td>4</td>\n",
       "      <td>0</td>\n",
       "      <td>0</td>\n",
       "      <td>2</td>\n",
       "      <td>282</td>\n",
       "      <td>0.0</td>\n",
       "      <td>1</td>\n",
       "      <td>35</td>\n",
       "      <td>156</td>\n",
       "      <td>1</td>\n",
       "      <td>1.0</td>\n",
       "      <td>-1.0</td>\n",
       "      <td>0.0</td>\n",
       "      <td>2.0</td>\n",
       "      <td>-1.0</td>\n",
       "      <td>-1.0</td>\n",
       "    </tr>\n",
       "    <tr>\n",
       "      <th>e3dnw3</th>\n",
       "      <td>1</td>\n",
       "      <td>reversible_defect</td>\n",
       "      <td>125</td>\n",
       "      <td>4</td>\n",
       "      <td>2</td>\n",
       "      <td>0</td>\n",
       "      <td>2</td>\n",
       "      <td>300</td>\n",
       "      <td>0.0</td>\n",
       "      <td>1</td>\n",
       "      <td>58</td>\n",
       "      <td>171</td>\n",
       "      <td>0</td>\n",
       "      <td>1.0</td>\n",
       "      <td>-1.0</td>\n",
       "      <td>0.0</td>\n",
       "      <td>2.0</td>\n",
       "      <td>-1.0</td>\n",
       "      <td>-1.0</td>\n",
       "    </tr>\n",
       "  </tbody>\n",
       "</table>\n",
       "</div>"
      ],
      "text/plain": [
       "            slope_of_peak_exercise_st_segment               thal  \\\n",
       "patient_id                                                         \n",
       "qyrkxn                                      2             normal   \n",
       "sqddbc                                      2  reversible_defect   \n",
       "6lu42b                                      2  reversible_defect   \n",
       "nck22c                                      1  reversible_defect   \n",
       "e3dnw3                                      1  reversible_defect   \n",
       "\n",
       "            resting_blood_pressure  chest_pain_type  num_major_vessels  \\\n",
       "patient_id                                                               \n",
       "qyrkxn                         130                2                  0   \n",
       "sqddbc                         180                3                  0   \n",
       "6lu42b                         145                4                  2   \n",
       "nck22c                         126                4                  0   \n",
       "e3dnw3                         125                4                  2   \n",
       "\n",
       "            fasting_blood_sugar_gt_120_mg_per_dl  resting_ekg_results  \\\n",
       "patient_id                                                              \n",
       "qyrkxn                                         0                    2   \n",
       "sqddbc                                         1                    2   \n",
       "6lu42b                                         0                    2   \n",
       "nck22c                                         0                    2   \n",
       "e3dnw3                                         0                    2   \n",
       "\n",
       "            serum_cholesterol_mg_per_dl  oldpeak_eq_st_depression  sex  age  \\\n",
       "patient_id                                                                    \n",
       "qyrkxn                              234                       0.6    0   45   \n",
       "sqddbc                              274                       1.6    1   68   \n",
       "6lu42b                              282                       2.8    1   60   \n",
       "nck22c                              282                       0.0    1   35   \n",
       "e3dnw3                              300                       0.0    1   58   \n",
       "\n",
       "            max_heart_rate_achieved  exercise_induced_angina  thal_0  thal_1  \\\n",
       "patient_id                                                                     \n",
       "qyrkxn                          175                        0    -1.0    -1.0   \n",
       "sqddbc                          150                        1     1.0    -1.0   \n",
       "6lu42b                          142                        1     1.0    -1.0   \n",
       "nck22c                          156                        1     1.0    -1.0   \n",
       "e3dnw3                          171                        0     1.0    -1.0   \n",
       "\n",
       "            chest_pain_type_0  chest_pain_type_1  chest_pain_type_2  \\\n",
       "patient_id                                                            \n",
       "qyrkxn                   -1.0               -1.0               -1.0   \n",
       "sqddbc                    1.0               -1.0               -1.0   \n",
       "6lu42b                    0.0                2.0               -1.0   \n",
       "nck22c                    0.0                2.0               -1.0   \n",
       "e3dnw3                    0.0                2.0               -1.0   \n",
       "\n",
       "            resting_ekg_results_0  \n",
       "patient_id                         \n",
       "qyrkxn                       -1.0  \n",
       "sqddbc                       -1.0  \n",
       "6lu42b                       -1.0  \n",
       "nck22c                       -1.0  \n",
       "e3dnw3                       -1.0  "
      ]
     },
     "execution_count": 81,
     "metadata": {},
     "output_type": "execute_result"
    }
   ],
   "source": [
    "df.head()"
   ]
  },
  {
   "cell_type": "markdown",
   "metadata": {},
   "source": [
    "### Illustration of the above transformer"
   ]
  },
  {
   "cell_type": "code",
   "execution_count": 75,
   "metadata": {},
   "outputs": [],
   "source": [
    "tahl_pipe = Pipeline([\n",
    "    ('cst', ColumnSelectTransformer([\"thal\"])),\n",
    "    ('cle', CustomLabelEncoder()),\n",
    "    ('ohe', OneHotEncoder(categories = \"auto\",sparse=False))\n",
    "])"
   ]
  },
  {
   "cell_type": "code",
   "execution_count": 76,
   "metadata": {},
   "outputs": [
    {
     "data": {
      "text/plain": [
       "array([[0., 1., 0.],\n",
       "       [0., 1., 0.],\n",
       "       [0., 1., 0.],\n",
       "       [0., 0., 1.],\n",
       "       [0., 0., 1.]])"
      ]
     },
     "execution_count": 76,
     "metadata": {},
     "output_type": "execute_result"
    }
   ],
   "source": [
    "tahl_pipe.fit_transform(X)[0:5]"
   ]
  },
  {
   "cell_type": "markdown",
   "metadata": {},
   "source": [
    "This array has three columns becuase it has three unique values which can be verified by the following code."
   ]
  },
  {
   "cell_type": "code",
   "execution_count": 243,
   "metadata": {},
   "outputs": [
    {
     "data": {
      "text/plain": [
       "3"
      ]
     },
     "execution_count": 243,
     "metadata": {},
     "output_type": "execute_result"
    }
   ],
   "source": [
    "len(X[\"thal\"].unique())"
   ]
  },
  {
   "cell_type": "markdown",
   "metadata": {},
   "source": [
    "The __thal__ column in the dataframe is converted into array as shown above. The interpretation of the above array is that <br/> __normal = [0. 1. 0.], reversible_defect = [0. 0. 1.]__ and __fixed_defect = [1. 0. 0.]__."
   ]
  },
  {
   "cell_type": "markdown",
   "metadata": {},
   "source": [
    "# Logistic Regression"
   ]
  },
  {
   "cell_type": "code",
   "execution_count": 7,
   "metadata": {},
   "outputs": [],
   "source": [
    "# For categorical features\n",
    "cat_pipe = Pipeline([\n",
    "    ('cst', ColumnSelectTransformer(categorical_features)),\n",
    "    ('cle', CustomLabelEncoder()),\n",
    "    ('ohe', OneHotEncoder(sparse=False))\n",
    "])\n",
    "\n",
    "# For features we don't want to transform\n",
    "passthrough_pipe = Pipeline([\n",
    "    ('cst', ColumnSelectTransformer(numerical_features + binary_features))\n",
    "])\n",
    "\n",
    "# combining the above pipelines\n",
    "feat_u = FeatureUnion([\n",
    "    ('cat_pipe', cat_pipe),\n",
    "    ('passthrough_pipe', passthrough_pipe)\n",
    "])"
   ]
  },
  {
   "cell_type": "code",
   "execution_count": 8,
   "metadata": {},
   "outputs": [],
   "source": [
    "# combining the pipelines and the logistic regression\n",
    "full_model = Pipeline([\n",
    "    ('feat_u', feat_u),\n",
    "    ('lr', LogisticRegression())\n",
    "])"
   ]
  },
  {
   "cell_type": "code",
   "execution_count": 9,
   "metadata": {},
   "outputs": [],
   "source": [
    "X_train, X_test, y_train, y_test = train_test_split(X,y, test_size = 0.2)"
   ]
  },
  {
   "cell_type": "code",
   "execution_count": 15,
   "metadata": {},
   "outputs": [
    {
     "data": {
      "text/plain": [
       "['slope_of_peak_exercise_st_segment',\n",
       " 'thal',\n",
       " 'resting_blood_pressure',\n",
       " 'chest_pain_type',\n",
       " 'num_major_vessels',\n",
       " 'fasting_blood_sugar_gt_120_mg_per_dl',\n",
       " 'resting_ekg_results',\n",
       " 'serum_cholesterol_mg_per_dl',\n",
       " 'oldpeak_eq_st_depression',\n",
       " 'sex',\n",
       " 'age',\n",
       " 'max_heart_rate_achieved',\n",
       " 'exercise_induced_angina']"
      ]
     },
     "execution_count": 15,
     "metadata": {},
     "output_type": "execute_result"
    }
   ],
   "source": [
    "list(X_train.columns)"
   ]
  },
  {
   "cell_type": "code",
   "execution_count": 31,
   "metadata": {},
   "outputs": [
    {
     "data": {
      "text/plain": [
       "array([0, 1], dtype=int64)"
      ]
     },
     "execution_count": 31,
     "metadata": {},
     "output_type": "execute_result"
    }
   ],
   "source": [
    "X_train.exercise_induced_angina.unique()"
   ]
  },
  {
   "cell_type": "code",
   "execution_count": 55,
   "metadata": {},
   "outputs": [
    {
     "name": "stderr",
     "output_type": "stream",
     "text": [
      "C:\\Users\\Surjeet\\Anaconda3\\lib\\site-packages\\sklearn\\linear_model\\_logistic.py:940: ConvergenceWarning: lbfgs failed to converge (status=1):\n",
      "STOP: TOTAL NO. of ITERATIONS REACHED LIMIT.\n",
      "\n",
      "Increase the number of iterations (max_iter) or scale the data as shown in:\n",
      "    https://scikit-learn.org/stable/modules/preprocessing.html\n",
      "Please also refer to the documentation for alternative solver options:\n",
      "    https://scikit-learn.org/stable/modules/linear_model.html#logistic-regression\n",
      "  extra_warning_msg=_LOGISTIC_SOLVER_CONVERGENCE_MSG)\n"
     ]
    },
    {
     "data": {
      "text/plain": [
       "Pipeline(memory=None,\n",
       "         steps=[('feat_u',\n",
       "                 FeatureUnion(n_jobs=None,\n",
       "                              transformer_list=[('cat_pipe',\n",
       "                                                 Pipeline(memory=None,\n",
       "                                                          steps=[('cst',\n",
       "                                                                  ColumnSelectTransformer(columns=['thal',\n",
       "                                                                                                   'chest_pain_type',\n",
       "                                                                                                   'resting_ekg_results'])),\n",
       "                                                                 ('cle',\n",
       "                                                                  CustomLabelEncoder()),\n",
       "                                                                 ('ohe',\n",
       "                                                                  OneHotEncoder(categories='auto',\n",
       "                                                                                drop=None,\n",
       "                                                                                dtype=<class 'numpy.float64'>,\n",
       "                                                                                handle_unknown='error',\n",
       "                                                                                sparse=Fa...\n",
       "                                                                                                   'sex',\n",
       "                                                                                                   'exercise_induced_angina']))],\n",
       "                                                          verbose=False))],\n",
       "                              transformer_weights=None, verbose=False)),\n",
       "                ('lr',\n",
       "                 LogisticRegression(C=1.0, class_weight=None, dual=False,\n",
       "                                    fit_intercept=True, intercept_scaling=1,\n",
       "                                    l1_ratio=None, max_iter=100,\n",
       "                                    multi_class='auto', n_jobs=None,\n",
       "                                    penalty='l2', random_state=None,\n",
       "                                    solver='lbfgs', tol=0.0001, verbose=0,\n",
       "                                    warm_start=False))],\n",
       "         verbose=False)"
      ]
     },
     "execution_count": 55,
     "metadata": {},
     "output_type": "execute_result"
    }
   ],
   "source": [
    "full_model.fit(X_train, y_train)"
   ]
  },
  {
   "cell_type": "code",
   "execution_count": 45,
   "metadata": {},
   "outputs": [
    {
     "data": {
      "text/plain": [
       "['slope_of_peak_exercise_st_segment',\n",
       " 'thal',\n",
       " 'resting_blood_pressure',\n",
       " 'chest_pain_type',\n",
       " 'num_major_vessels',\n",
       " 'fasting_blood_sugar_gt_120_mg_per_dl',\n",
       " 'resting_ekg_results',\n",
       " 'serum_cholesterol_mg_per_dl',\n",
       " 'oldpeak_eq_st_depression',\n",
       " 'sex',\n",
       " 'age',\n",
       " 'max_heart_rate_achieved',\n",
       " 'exercise_induced_angina']"
      ]
     },
     "execution_count": 45,
     "metadata": {},
     "output_type": "execute_result"
    }
   ],
   "source": [
    "list(X_train.columns)"
   ]
  },
  {
   "cell_type": "code",
   "execution_count": 82,
   "metadata": {},
   "outputs": [
    {
     "data": {
      "text/html": [
       "<div>\n",
       "<style scoped>\n",
       "    .dataframe tbody tr th:only-of-type {\n",
       "        vertical-align: middle;\n",
       "    }\n",
       "\n",
       "    .dataframe tbody tr th {\n",
       "        vertical-align: top;\n",
       "    }\n",
       "\n",
       "    .dataframe thead th {\n",
       "        text-align: right;\n",
       "    }\n",
       "</style>\n",
       "<table border=\"1\" class=\"dataframe\">\n",
       "  <thead>\n",
       "    <tr style=\"text-align: right;\">\n",
       "      <th></th>\n",
       "      <th>slope_of_peak_exercise_st_segment</th>\n",
       "      <th>thal</th>\n",
       "      <th>resting_blood_pressure</th>\n",
       "      <th>chest_pain_type</th>\n",
       "      <th>num_major_vessels</th>\n",
       "      <th>fasting_blood_sugar_gt_120_mg_per_dl</th>\n",
       "      <th>resting_ekg_results</th>\n",
       "      <th>serum_cholesterol_mg_per_dl</th>\n",
       "      <th>oldpeak_eq_st_depression</th>\n",
       "      <th>sex</th>\n",
       "      <th>age</th>\n",
       "      <th>max_heart_rate_achieved</th>\n",
       "      <th>exercise_induced_angina</th>\n",
       "    </tr>\n",
       "    <tr>\n",
       "      <th>patient_id</th>\n",
       "      <th></th>\n",
       "      <th></th>\n",
       "      <th></th>\n",
       "      <th></th>\n",
       "      <th></th>\n",
       "      <th></th>\n",
       "      <th></th>\n",
       "      <th></th>\n",
       "      <th></th>\n",
       "      <th></th>\n",
       "      <th></th>\n",
       "      <th></th>\n",
       "      <th></th>\n",
       "    </tr>\n",
       "  </thead>\n",
       "  <tbody>\n",
       "    <tr>\n",
       "      <th>qyrkxn</th>\n",
       "      <td>2</td>\n",
       "      <td>normal</td>\n",
       "      <td>130</td>\n",
       "      <td>2</td>\n",
       "      <td>0</td>\n",
       "      <td>0</td>\n",
       "      <td>2</td>\n",
       "      <td>234</td>\n",
       "      <td>0.6</td>\n",
       "      <td>0</td>\n",
       "      <td>45</td>\n",
       "      <td>175</td>\n",
       "      <td>0</td>\n",
       "    </tr>\n",
       "    <tr>\n",
       "      <th>sqddbc</th>\n",
       "      <td>2</td>\n",
       "      <td>reversible_defect</td>\n",
       "      <td>180</td>\n",
       "      <td>3</td>\n",
       "      <td>0</td>\n",
       "      <td>1</td>\n",
       "      <td>2</td>\n",
       "      <td>274</td>\n",
       "      <td>1.6</td>\n",
       "      <td>1</td>\n",
       "      <td>68</td>\n",
       "      <td>150</td>\n",
       "      <td>1</td>\n",
       "    </tr>\n",
       "    <tr>\n",
       "      <th>6lu42b</th>\n",
       "      <td>2</td>\n",
       "      <td>reversible_defect</td>\n",
       "      <td>145</td>\n",
       "      <td>4</td>\n",
       "      <td>2</td>\n",
       "      <td>0</td>\n",
       "      <td>2</td>\n",
       "      <td>282</td>\n",
       "      <td>2.8</td>\n",
       "      <td>1</td>\n",
       "      <td>60</td>\n",
       "      <td>142</td>\n",
       "      <td>1</td>\n",
       "    </tr>\n",
       "    <tr>\n",
       "      <th>nck22c</th>\n",
       "      <td>1</td>\n",
       "      <td>reversible_defect</td>\n",
       "      <td>126</td>\n",
       "      <td>4</td>\n",
       "      <td>0</td>\n",
       "      <td>0</td>\n",
       "      <td>2</td>\n",
       "      <td>282</td>\n",
       "      <td>0.0</td>\n",
       "      <td>1</td>\n",
       "      <td>35</td>\n",
       "      <td>156</td>\n",
       "      <td>1</td>\n",
       "    </tr>\n",
       "    <tr>\n",
       "      <th>e3dnw3</th>\n",
       "      <td>1</td>\n",
       "      <td>reversible_defect</td>\n",
       "      <td>125</td>\n",
       "      <td>4</td>\n",
       "      <td>2</td>\n",
       "      <td>0</td>\n",
       "      <td>2</td>\n",
       "      <td>300</td>\n",
       "      <td>0.0</td>\n",
       "      <td>1</td>\n",
       "      <td>58</td>\n",
       "      <td>171</td>\n",
       "      <td>0</td>\n",
       "    </tr>\n",
       "  </tbody>\n",
       "</table>\n",
       "</div>"
      ],
      "text/plain": [
       "            slope_of_peak_exercise_st_segment               thal  \\\n",
       "patient_id                                                         \n",
       "qyrkxn                                      2             normal   \n",
       "sqddbc                                      2  reversible_defect   \n",
       "6lu42b                                      2  reversible_defect   \n",
       "nck22c                                      1  reversible_defect   \n",
       "e3dnw3                                      1  reversible_defect   \n",
       "\n",
       "            resting_blood_pressure  chest_pain_type  num_major_vessels  \\\n",
       "patient_id                                                               \n",
       "qyrkxn                         130                2                  0   \n",
       "sqddbc                         180                3                  0   \n",
       "6lu42b                         145                4                  2   \n",
       "nck22c                         126                4                  0   \n",
       "e3dnw3                         125                4                  2   \n",
       "\n",
       "            fasting_blood_sugar_gt_120_mg_per_dl  resting_ekg_results  \\\n",
       "patient_id                                                              \n",
       "qyrkxn                                         0                    2   \n",
       "sqddbc                                         1                    2   \n",
       "6lu42b                                         0                    2   \n",
       "nck22c                                         0                    2   \n",
       "e3dnw3                                         0                    2   \n",
       "\n",
       "            serum_cholesterol_mg_per_dl  oldpeak_eq_st_depression  sex  age  \\\n",
       "patient_id                                                                    \n",
       "qyrkxn                              234                       0.6    0   45   \n",
       "sqddbc                              274                       1.6    1   68   \n",
       "6lu42b                              282                       2.8    1   60   \n",
       "nck22c                              282                       0.0    1   35   \n",
       "e3dnw3                              300                       0.0    1   58   \n",
       "\n",
       "            max_heart_rate_achieved  exercise_induced_angina  \n",
       "patient_id                                                    \n",
       "qyrkxn                          175                        0  \n",
       "sqddbc                          150                        1  \n",
       "6lu42b                          142                        1  \n",
       "nck22c                          156                        1  \n",
       "e3dnw3                          171                        0  "
      ]
     },
     "execution_count": 82,
     "metadata": {},
     "output_type": "execute_result"
    }
   ],
   "source": [
    "X_train.head()"
   ]
  },
  {
   "cell_type": "code",
   "execution_count": 66,
   "metadata": {},
   "outputs": [
    {
     "data": {
      "text/html": [
       "<div>\n",
       "<style scoped>\n",
       "    .dataframe tbody tr th:only-of-type {\n",
       "        vertical-align: middle;\n",
       "    }\n",
       "\n",
       "    .dataframe tbody tr th {\n",
       "        vertical-align: top;\n",
       "    }\n",
       "\n",
       "    .dataframe thead th {\n",
       "        text-align: right;\n",
       "    }\n",
       "</style>\n",
       "<table border=\"1\" class=\"dataframe\">\n",
       "  <thead>\n",
       "    <tr style=\"text-align: right;\">\n",
       "      <th></th>\n",
       "      <th>slope_of_peak_exercise_st_segment</th>\n",
       "      <th>thal</th>\n",
       "      <th>resting_blood_pressure</th>\n",
       "      <th>chest_pain_type</th>\n",
       "      <th>num_major_vessels</th>\n",
       "      <th>fasting_blood_sugar_gt_120_mg_per_dl</th>\n",
       "      <th>resting_ekg_results</th>\n",
       "      <th>serum_cholesterol_mg_per_dl</th>\n",
       "      <th>oldpeak_eq_st_depression</th>\n",
       "      <th>sex</th>\n",
       "      <th>age</th>\n",
       "      <th>max_heart_rate_achieved</th>\n",
       "      <th>exercise_induced_angina</th>\n",
       "    </tr>\n",
       "  </thead>\n",
       "  <tbody>\n",
       "    <tr>\n",
       "      <th>0</th>\n",
       "      <td>2</td>\n",
       "      <td>normal</td>\n",
       "      <td>130</td>\n",
       "      <td>2</td>\n",
       "      <td>0</td>\n",
       "      <td>0</td>\n",
       "      <td>2</td>\n",
       "      <td>234</td>\n",
       "      <td>0.6</td>\n",
       "      <td>0</td>\n",
       "      <td>45</td>\n",
       "      <td>175</td>\n",
       "      <td>0</td>\n",
       "    </tr>\n",
       "  </tbody>\n",
       "</table>\n",
       "</div>"
      ],
      "text/plain": [
       "  slope_of_peak_exercise_st_segment    thal resting_blood_pressure  \\\n",
       "0                                 2  normal                    130   \n",
       "\n",
       "  chest_pain_type num_major_vessels fasting_blood_sugar_gt_120_mg_per_dl  \\\n",
       "0               2                 0                                    0   \n",
       "\n",
       "  resting_ekg_results serum_cholesterol_mg_per_dl oldpeak_eq_st_depression  \\\n",
       "0                   2                         234                      0.6   \n",
       "\n",
       "  sex age max_heart_rate_achieved exercise_induced_angina  \n",
       "0   0  45                     175                       0  "
      ]
     },
     "execution_count": 66,
     "metadata": {},
     "output_type": "execute_result"
    }
   ],
   "source": [
    "#X_test = X_test.reset_index().drop(\"patient_id\", axis = 1)\n",
    "x = pd.DataFrame(X_train.iloc[0]).T\n",
    "x.reset_index(drop = True, inplace = True)\n",
    "x"
   ]
  },
  {
   "cell_type": "code",
   "execution_count": 71,
   "metadata": {},
   "outputs": [
    {
     "data": {
      "text/html": [
       "<div>\n",
       "<style scoped>\n",
       "    .dataframe tbody tr th:only-of-type {\n",
       "        vertical-align: middle;\n",
       "    }\n",
       "\n",
       "    .dataframe tbody tr th {\n",
       "        vertical-align: top;\n",
       "    }\n",
       "\n",
       "    .dataframe thead th {\n",
       "        text-align: right;\n",
       "    }\n",
       "</style>\n",
       "<table border=\"1\" class=\"dataframe\">\n",
       "  <thead>\n",
       "    <tr style=\"text-align: right;\">\n",
       "      <th></th>\n",
       "      <th>slope_of_peak_exercise_st_segment</th>\n",
       "      <th>thal</th>\n",
       "      <th>resting_blood_pressure</th>\n",
       "      <th>chest_pain_type</th>\n",
       "      <th>num_major_vessels</th>\n",
       "      <th>fasting_blood_sugar_gt_120_mg_per_dl</th>\n",
       "      <th>resting_ekg_results</th>\n",
       "      <th>serum_cholesterol_mg_per_dl</th>\n",
       "      <th>oldpeak_eq_st_depression</th>\n",
       "      <th>sex</th>\n",
       "      <th>age</th>\n",
       "      <th>max_heart_rate_achieved</th>\n",
       "      <th>exercise_induced_angina</th>\n",
       "    </tr>\n",
       "  </thead>\n",
       "  <tbody>\n",
       "    <tr>\n",
       "      <th>0</th>\n",
       "      <td>2</td>\n",
       "      <td>normal</td>\n",
       "      <td>130</td>\n",
       "      <td>2</td>\n",
       "      <td>0</td>\n",
       "      <td>0</td>\n",
       "      <td>2</td>\n",
       "      <td>234</td>\n",
       "      <td>0.6</td>\n",
       "      <td>0</td>\n",
       "      <td>45</td>\n",
       "      <td>175</td>\n",
       "      <td>0</td>\n",
       "    </tr>\n",
       "  </tbody>\n",
       "</table>\n",
       "</div>"
      ],
      "text/plain": [
       "  slope_of_peak_exercise_st_segment    thal resting_blood_pressure  \\\n",
       "0                                 2  normal                    130   \n",
       "\n",
       "  chest_pain_type num_major_vessels fasting_blood_sugar_gt_120_mg_per_dl  \\\n",
       "0               2                 0                                    0   \n",
       "\n",
       "  resting_ekg_results serum_cholesterol_mg_per_dl oldpeak_eq_st_depression  \\\n",
       "0                   2                         234                      0.6   \n",
       "\n",
       "  sex age max_heart_rate_achieved exercise_induced_angina  \n",
       "0   0  45                     175                       0  "
      ]
     },
     "execution_count": 71,
     "metadata": {},
     "output_type": "execute_result"
    }
   ],
   "source": [
    "# predicting the probability for the given data\n",
    "columns = list(X_train.columns)\n",
    "input = pd.DataFrame([2,\"normal\",130,2,0,0,2,234,0.6,0,45,175,0]).T\n",
    "input.columns = columns\n",
    "input\n",
    "#y_pred = full_model.predict_proba(pd.DataFrame([3,\"normal\",108,0,2,0,2,2.5,2,0,25,120,0]).T)\n",
    "#y_pred = full_model.predict_proba(x)\n",
    "#y_pred[0][0]"
   ]
  },
  {
   "cell_type": "code",
   "execution_count": 58,
   "metadata": {},
   "outputs": [],
   "source": [
    "# saving the model as pickle file\n",
    "pickle.dump(full_model, open('model.pkl','wb'))"
   ]
  },
  {
   "cell_type": "code",
   "execution_count": 59,
   "metadata": {},
   "outputs": [],
   "source": [
    "loaded_model = pickle.load(open(\"model.pkl\",\"rb\"))"
   ]
  },
  {
   "cell_type": "code",
   "execution_count": 73,
   "metadata": {},
   "outputs": [
    {
     "data": {
      "text/plain": [
       "array([[0.9326917, 0.0673083]])"
      ]
     },
     "execution_count": 73,
     "metadata": {},
     "output_type": "execute_result"
    }
   ],
   "source": [
    "loaded_model.predict_proba(input)"
   ]
  },
  {
   "cell_type": "code",
   "execution_count": 33,
   "metadata": {},
   "outputs": [
    {
     "ename": "NameError",
     "evalue": "name 'confusion_matrix' is not defined",
     "output_type": "error",
     "traceback": [
      "\u001b[1;31m---------------------------------------------------------------------------\u001b[0m",
      "\u001b[1;31mNameError\u001b[0m                                 Traceback (most recent call last)",
      "\u001b[1;32m<ipython-input-33-41e0ac971bc3>\u001b[0m in \u001b[0;36m<module>\u001b[1;34m\u001b[0m\n\u001b[0;32m      3\u001b[0m \u001b[1;32mfor\u001b[0m \u001b[0mi\u001b[0m \u001b[1;32min\u001b[0m \u001b[0mnp\u001b[0m\u001b[1;33m.\u001b[0m\u001b[0marange\u001b[0m\u001b[1;33m(\u001b[0m\u001b[1;36m0\u001b[0m\u001b[1;33m,\u001b[0m\u001b[1;36m1.1\u001b[0m\u001b[1;33m,\u001b[0m\u001b[1;36m0.1\u001b[0m\u001b[1;33m)\u001b[0m\u001b[1;33m:\u001b[0m\u001b[1;33m\u001b[0m\u001b[1;33m\u001b[0m\u001b[0m\n\u001b[0;32m      4\u001b[0m     \u001b[0my_pred\u001b[0m \u001b[1;33m=\u001b[0m \u001b[0mnp\u001b[0m\u001b[1;33m.\u001b[0m\u001b[0mwhere\u001b[0m\u001b[1;33m(\u001b[0m\u001b[0mfull_model\u001b[0m\u001b[1;33m.\u001b[0m\u001b[0mpredict_proba\u001b[0m\u001b[1;33m(\u001b[0m\u001b[0mX_test\u001b[0m\u001b[1;33m)\u001b[0m\u001b[1;33m[\u001b[0m\u001b[1;33m:\u001b[0m\u001b[1;33m,\u001b[0m\u001b[1;36m1\u001b[0m\u001b[1;33m]\u001b[0m\u001b[1;33m>\u001b[0m\u001b[0mi\u001b[0m\u001b[1;33m,\u001b[0m\u001b[1;36m1\u001b[0m\u001b[1;33m,\u001b[0m\u001b[1;36m0\u001b[0m\u001b[1;33m)\u001b[0m\u001b[1;33m\u001b[0m\u001b[1;33m\u001b[0m\u001b[0m\n\u001b[1;32m----> 5\u001b[1;33m     \u001b[0mtn\u001b[0m\u001b[1;33m,\u001b[0m \u001b[0mfp\u001b[0m\u001b[1;33m,\u001b[0m \u001b[0mfn\u001b[0m\u001b[1;33m,\u001b[0m \u001b[0mtp\u001b[0m \u001b[1;33m=\u001b[0m \u001b[0mconfusion_matrix\u001b[0m\u001b[1;33m(\u001b[0m\u001b[0my_test\u001b[0m\u001b[1;33m,\u001b[0m \u001b[0my_pred\u001b[0m\u001b[1;33m)\u001b[0m\u001b[1;33m.\u001b[0m\u001b[0mravel\u001b[0m\u001b[1;33m(\u001b[0m\u001b[1;33m)\u001b[0m\u001b[1;33m\u001b[0m\u001b[1;33m\u001b[0m\u001b[0m\n\u001b[0m\u001b[0;32m      6\u001b[0m     \u001b[0mlst\u001b[0m\u001b[1;33m.\u001b[0m\u001b[0mappend\u001b[0m\u001b[1;33m(\u001b[0m\u001b[1;33m[\u001b[0m\u001b[0mround\u001b[0m\u001b[1;33m(\u001b[0m\u001b[0mi\u001b[0m\u001b[1;33m,\u001b[0m\u001b[1;36m1\u001b[0m\u001b[1;33m)\u001b[0m\u001b[1;33m,\u001b[0m\u001b[0mtp\u001b[0m\u001b[1;33m,\u001b[0m\u001b[0mfp\u001b[0m\u001b[1;33m,\u001b[0m\u001b[0mtn\u001b[0m\u001b[1;33m,\u001b[0m\u001b[0mfn\u001b[0m\u001b[1;33m]\u001b[0m\u001b[1;33m)\u001b[0m\u001b[1;33m\u001b[0m\u001b[1;33m\u001b[0m\u001b[0m\n\u001b[0;32m      7\u001b[0m \u001b[0mconfusion_result\u001b[0m \u001b[1;33m=\u001b[0m \u001b[0mpd\u001b[0m\u001b[1;33m.\u001b[0m\u001b[0mDataFrame\u001b[0m\u001b[1;33m(\u001b[0m\u001b[0mlst\u001b[0m\u001b[1;33m,\u001b[0m \u001b[0mcolumns\u001b[0m\u001b[1;33m=\u001b[0m\u001b[0mcols\u001b[0m\u001b[1;33m)\u001b[0m\u001b[1;33m\u001b[0m\u001b[1;33m\u001b[0m\u001b[0m\n",
      "\u001b[1;31mNameError\u001b[0m: name 'confusion_matrix' is not defined"
     ]
    }
   ],
   "source": [
    "cols = [\"Thresholds\",'TP', 'FP', 'TN','FN']\n",
    "lst = []\n",
    "for i in np.arange(0,1.1,0.1):\n",
    "    y_pred = np.where(full_model.predict_proba(X_test)[:,1]>i,1,0)\n",
    "    tn, fp, fn, tp = confusion_matrix(y_test, y_pred).ravel()\n",
    "    lst.append([round(i,1),tp,fp,tn,fn])\n",
    "confusion_result = pd.DataFrame(lst, columns=cols)"
   ]
  },
  {
   "cell_type": "code",
   "execution_count": 417,
   "metadata": {},
   "outputs": [
    {
     "data": {
      "text/html": [
       "<div>\n",
       "<style scoped>\n",
       "    .dataframe tbody tr th:only-of-type {\n",
       "        vertical-align: middle;\n",
       "    }\n",
       "\n",
       "    .dataframe tbody tr th {\n",
       "        vertical-align: top;\n",
       "    }\n",
       "\n",
       "    .dataframe thead th {\n",
       "        text-align: right;\n",
       "    }\n",
       "</style>\n",
       "<table border=\"1\" class=\"dataframe\">\n",
       "  <thead>\n",
       "    <tr style=\"text-align: right;\">\n",
       "      <th></th>\n",
       "      <th>Thresholds</th>\n",
       "      <th>TP</th>\n",
       "      <th>FP</th>\n",
       "      <th>TN</th>\n",
       "      <th>FN</th>\n",
       "    </tr>\n",
       "  </thead>\n",
       "  <tbody>\n",
       "    <tr>\n",
       "      <th>0</th>\n",
       "      <td>0.1</td>\n",
       "      <td>14</td>\n",
       "      <td>9</td>\n",
       "      <td>11</td>\n",
       "      <td>2</td>\n",
       "    </tr>\n",
       "    <tr>\n",
       "      <th>1</th>\n",
       "      <td>0.2</td>\n",
       "      <td>13</td>\n",
       "      <td>7</td>\n",
       "      <td>13</td>\n",
       "      <td>3</td>\n",
       "    </tr>\n",
       "    <tr>\n",
       "      <th>2</th>\n",
       "      <td>0.3</td>\n",
       "      <td>13</td>\n",
       "      <td>5</td>\n",
       "      <td>15</td>\n",
       "      <td>3</td>\n",
       "    </tr>\n",
       "    <tr>\n",
       "      <th>3</th>\n",
       "      <td>0.4</td>\n",
       "      <td>13</td>\n",
       "      <td>4</td>\n",
       "      <td>16</td>\n",
       "      <td>3</td>\n",
       "    </tr>\n",
       "    <tr>\n",
       "      <th>4</th>\n",
       "      <td>0.5</td>\n",
       "      <td>13</td>\n",
       "      <td>2</td>\n",
       "      <td>18</td>\n",
       "      <td>3</td>\n",
       "    </tr>\n",
       "  </tbody>\n",
       "</table>\n",
       "</div>"
      ],
      "text/plain": [
       "   Thresholds  TP  FP  TN  FN\n",
       "0         0.1  14   9  11   2\n",
       "1         0.2  13   7  13   3\n",
       "2         0.3  13   5  15   3\n",
       "3         0.4  13   4  16   3\n",
       "4         0.5  13   2  18   3"
      ]
     },
     "execution_count": 417,
     "metadata": {},
     "output_type": "execute_result"
    }
   ],
   "source": [
    "confusion_result.head()"
   ]
  },
  {
   "cell_type": "code",
   "execution_count": 441,
   "metadata": {},
   "outputs": [],
   "source": [
    "def calculate_metrics(results):\n",
    "    roc = pd.DataFrame(index = results['Thresholds'], columns=['recall', 'precision', 'f1', 'tpr', 'fpr'])\n",
    "    \n",
    "    for i in results.iterrows():\n",
    "        \n",
    "        t, tp, fp,tn, fn = i[1]\n",
    "        #print(t, tp, fp,tn, fn)\n",
    "        #assert tp + fp + tn + fn == 100, 'Patients must add up to 100'\n",
    "        \n",
    "        recall = tp / (tp + fn)\n",
    "        \n",
    "        if tp == fp == 0:\n",
    "            precision = 0\n",
    "            true_positive_rate = 0\n",
    "        \n",
    "        else:\n",
    "            precision = tp / (tp + fp)\n",
    "            true_positive_rate = tp / (tp + fn)\n",
    "            \n",
    "        if precision == recall == 0:\n",
    "            f1 = 0\n",
    "        else:\n",
    "            f1 = 2 * (precision * recall) / (precision + recall)\n",
    "        \n",
    "        \n",
    "        false_positive_rate = fp / (fp + tn)\n",
    "        \n",
    "        roc.ix[t, 'recall'] = recall\n",
    "        roc.ix[t, 'precision'] = precision\n",
    "        roc.ix[t, 'f1'] = f1\n",
    "        roc.ix[t, 'tpr'] = true_positive_rate\n",
    "        roc.ix[t, 'fpr'] = false_positive_rate\n",
    "    \n",
    "    return roc"
   ]
  },
  {
   "cell_type": "code",
   "execution_count": 431,
   "metadata": {},
   "outputs": [
    {
     "name": "stdout",
     "output_type": "stream",
     "text": [
      "0.0 16.0 20.0 0.0 0.0\n",
      "0.1 14.0 9.0 11.0 2.0\n",
      "0.2 13.0 7.0 13.0 3.0\n",
      "0.3 13.0 5.0 15.0 3.0\n",
      "0.4 13.0 4.0 16.0 3.0\n",
      "0.5 13.0 2.0 18.0 3.0\n",
      "0.6 13.0 1.0 19.0 3.0\n",
      "0.7 10.0 1.0 19.0 6.0\n",
      "0.8 8.0 1.0 19.0 8.0\n",
      "0.9 6.0 1.0 19.0 10.0\n",
      "1.0 0.0 0.0 20.0 16.0\n"
     ]
    },
    {
     "name": "stderr",
     "output_type": "stream",
     "text": [
      "C:\\Users\\Surjeet\\Anaconda3\\lib\\site-packages\\ipykernel_launcher.py:28: DeprecationWarning: \n",
      ".ix is deprecated. Please use\n",
      ".loc for label based indexing or\n",
      ".iloc for positional indexing\n",
      "\n",
      "See the documentation here:\n",
      "http://pandas.pydata.org/pandas-docs/stable/indexing.html#ix-indexer-is-deprecated\n",
      "C:\\Users\\Surjeet\\Anaconda3\\lib\\site-packages\\ipykernel_launcher.py:29: DeprecationWarning: \n",
      ".ix is deprecated. Please use\n",
      ".loc for label based indexing or\n",
      ".iloc for positional indexing\n",
      "\n",
      "See the documentation here:\n",
      "http://pandas.pydata.org/pandas-docs/stable/indexing.html#ix-indexer-is-deprecated\n",
      "C:\\Users\\Surjeet\\Anaconda3\\lib\\site-packages\\ipykernel_launcher.py:30: DeprecationWarning: \n",
      ".ix is deprecated. Please use\n",
      ".loc for label based indexing or\n",
      ".iloc for positional indexing\n",
      "\n",
      "See the documentation here:\n",
      "http://pandas.pydata.org/pandas-docs/stable/indexing.html#ix-indexer-is-deprecated\n",
      "C:\\Users\\Surjeet\\Anaconda3\\lib\\site-packages\\ipykernel_launcher.py:31: DeprecationWarning: \n",
      ".ix is deprecated. Please use\n",
      ".loc for label based indexing or\n",
      ".iloc for positional indexing\n",
      "\n",
      "See the documentation here:\n",
      "http://pandas.pydata.org/pandas-docs/stable/indexing.html#ix-indexer-is-deprecated\n",
      "C:\\Users\\Surjeet\\Anaconda3\\lib\\site-packages\\ipykernel_launcher.py:32: DeprecationWarning: \n",
      ".ix is deprecated. Please use\n",
      ".loc for label based indexing or\n",
      ".iloc for positional indexing\n",
      "\n",
      "See the documentation here:\n",
      "http://pandas.pydata.org/pandas-docs/stable/indexing.html#ix-indexer-is-deprecated\n"
     ]
    },
    {
     "data": {
      "text/html": [
       "<div>\n",
       "<style scoped>\n",
       "    .dataframe tbody tr th:only-of-type {\n",
       "        vertical-align: middle;\n",
       "    }\n",
       "\n",
       "    .dataframe tbody tr th {\n",
       "        vertical-align: top;\n",
       "    }\n",
       "\n",
       "    .dataframe thead th {\n",
       "        text-align: right;\n",
       "    }\n",
       "</style>\n",
       "<table border=\"1\" class=\"dataframe\">\n",
       "  <thead>\n",
       "    <tr style=\"text-align: right;\">\n",
       "      <th></th>\n",
       "      <th>Thresholds</th>\n",
       "      <th>recall</th>\n",
       "      <th>precision</th>\n",
       "      <th>f1</th>\n",
       "      <th>tpr</th>\n",
       "      <th>fpr</th>\n",
       "    </tr>\n",
       "  </thead>\n",
       "  <tbody>\n",
       "    <tr>\n",
       "      <th>0</th>\n",
       "      <td>0.0</td>\n",
       "      <td>1</td>\n",
       "      <td>0.444444</td>\n",
       "      <td>0.615385</td>\n",
       "      <td>1</td>\n",
       "      <td>1</td>\n",
       "    </tr>\n",
       "    <tr>\n",
       "      <th>1</th>\n",
       "      <td>0.1</td>\n",
       "      <td>0.875</td>\n",
       "      <td>0.608696</td>\n",
       "      <td>0.717949</td>\n",
       "      <td>0.875</td>\n",
       "      <td>0.45</td>\n",
       "    </tr>\n",
       "    <tr>\n",
       "      <th>2</th>\n",
       "      <td>0.2</td>\n",
       "      <td>0.8125</td>\n",
       "      <td>0.65</td>\n",
       "      <td>0.722222</td>\n",
       "      <td>0.8125</td>\n",
       "      <td>0.35</td>\n",
       "    </tr>\n",
       "    <tr>\n",
       "      <th>3</th>\n",
       "      <td>0.3</td>\n",
       "      <td>0.8125</td>\n",
       "      <td>0.722222</td>\n",
       "      <td>0.764706</td>\n",
       "      <td>0.8125</td>\n",
       "      <td>0.25</td>\n",
       "    </tr>\n",
       "    <tr>\n",
       "      <th>4</th>\n",
       "      <td>0.4</td>\n",
       "      <td>0.8125</td>\n",
       "      <td>0.764706</td>\n",
       "      <td>0.787879</td>\n",
       "      <td>0.8125</td>\n",
       "      <td>0.2</td>\n",
       "    </tr>\n",
       "    <tr>\n",
       "      <th>5</th>\n",
       "      <td>0.5</td>\n",
       "      <td>0.8125</td>\n",
       "      <td>0.866667</td>\n",
       "      <td>0.83871</td>\n",
       "      <td>0.8125</td>\n",
       "      <td>0.1</td>\n",
       "    </tr>\n",
       "    <tr>\n",
       "      <th>6</th>\n",
       "      <td>0.6</td>\n",
       "      <td>0.8125</td>\n",
       "      <td>0.928571</td>\n",
       "      <td>0.866667</td>\n",
       "      <td>0.8125</td>\n",
       "      <td>0.05</td>\n",
       "    </tr>\n",
       "    <tr>\n",
       "      <th>7</th>\n",
       "      <td>0.7</td>\n",
       "      <td>0.625</td>\n",
       "      <td>0.909091</td>\n",
       "      <td>0.740741</td>\n",
       "      <td>0.625</td>\n",
       "      <td>0.05</td>\n",
       "    </tr>\n",
       "    <tr>\n",
       "      <th>8</th>\n",
       "      <td>0.8</td>\n",
       "      <td>0.5</td>\n",
       "      <td>0.888889</td>\n",
       "      <td>0.64</td>\n",
       "      <td>0.5</td>\n",
       "      <td>0.05</td>\n",
       "    </tr>\n",
       "    <tr>\n",
       "      <th>9</th>\n",
       "      <td>0.9</td>\n",
       "      <td>0.375</td>\n",
       "      <td>0.857143</td>\n",
       "      <td>0.521739</td>\n",
       "      <td>0.375</td>\n",
       "      <td>0.05</td>\n",
       "    </tr>\n",
       "    <tr>\n",
       "      <th>10</th>\n",
       "      <td>1.0</td>\n",
       "      <td>0</td>\n",
       "      <td>0</td>\n",
       "      <td>0</td>\n",
       "      <td>0</td>\n",
       "      <td>0</td>\n",
       "    </tr>\n",
       "  </tbody>\n",
       "</table>\n",
       "</div>"
      ],
      "text/plain": [
       "    Thresholds  recall precision        f1     tpr   fpr\n",
       "0          0.0       1  0.444444  0.615385       1     1\n",
       "1          0.1   0.875  0.608696  0.717949   0.875  0.45\n",
       "2          0.2  0.8125      0.65  0.722222  0.8125  0.35\n",
       "3          0.3  0.8125  0.722222  0.764706  0.8125  0.25\n",
       "4          0.4  0.8125  0.764706  0.787879  0.8125   0.2\n",
       "5          0.5  0.8125  0.866667   0.83871  0.8125   0.1\n",
       "6          0.6  0.8125  0.928571  0.866667  0.8125  0.05\n",
       "7          0.7   0.625  0.909091  0.740741   0.625  0.05\n",
       "8          0.8     0.5  0.888889      0.64     0.5  0.05\n",
       "9          0.9   0.375  0.857143  0.521739   0.375  0.05\n",
       "10         1.0       0         0         0       0     0"
      ]
     },
     "execution_count": 431,
     "metadata": {},
     "output_type": "execute_result"
    }
   ],
   "source": [
    "roc = calculate_metrics(confusion_result)\n",
    "roc.reset_index()"
   ]
  },
  {
   "cell_type": "code",
   "execution_count": 454,
   "metadata": {},
   "outputs": [
    {
     "data": {
      "image/png": "[encoded data removed]",
      "text/plain": [
       "<Figure size 576x504 with 1 Axes>"
      ]
     },
     "metadata": {
      "needs_background": "light"
     },
     "output_type": "display_data"
    }
   ],
   "source": [
    "figsize(8, 7)\n",
    "plt.style.use('seaborn-dark-palette')\n",
    "thresholds = [str(t) for t in confusion_result['Thresholds']]\n",
    "plt.plot(roc['fpr'], roc['tpr'], 'bo-', label = 'logistic regression');\n",
    "plt.plot(list(np.linspace(0, 1, num = 10)), list(np.linspace(0, 1, num = 10)), 'ro--', label = 'naive classifier');\n",
    "for x, y, s in zip(roc['fpr'], roc['tpr'], thresholds):\n",
    "    plt.text(x - 0.04,y + 0.02, s, fontdict={'size': 14});\n",
    "\n",
    "plt.legend(prop={'size':14})\n",
    "plt.xlim([0,1])\n",
    "plt.ylim([0,1])\n",
    "plt.ylabel('True Positive Rate', size = 16); plt.xlabel('False Positive Rate', size = 16);\n",
    "plt.title('ROC Curve for Heat Disease', size = 20);"
   ]
  },
  {
   "cell_type": "code",
   "execution_count": 252,
   "metadata": {},
   "outputs": [
    {
     "data": {
      "text/html": [
       "<div>\n",
       "<style scoped>\n",
       "    .dataframe tbody tr th:only-of-type {\n",
       "        vertical-align: middle;\n",
       "    }\n",
       "\n",
       "    .dataframe tbody tr th {\n",
       "        vertical-align: top;\n",
       "    }\n",
       "\n",
       "    .dataframe thead th {\n",
       "        text-align: right;\n",
       "    }\n",
       "</style>\n",
       "<table border=\"1\" class=\"dataframe\">\n",
       "  <thead>\n",
       "    <tr style=\"text-align: right;\">\n",
       "      <th>col_0</th>\n",
       "      <th>0</th>\n",
       "      <th>1</th>\n",
       "    </tr>\n",
       "    <tr>\n",
       "      <th>heart_disease_present</th>\n",
       "      <th></th>\n",
       "      <th></th>\n",
       "    </tr>\n",
       "  </thead>\n",
       "  <tbody>\n",
       "    <tr>\n",
       "      <th>0</th>\n",
       "      <td>14</td>\n",
       "      <td>6</td>\n",
       "    </tr>\n",
       "    <tr>\n",
       "      <th>1</th>\n",
       "      <td>3</td>\n",
       "      <td>13</td>\n",
       "    </tr>\n",
       "  </tbody>\n",
       "</table>\n",
       "</div>"
      ],
      "text/plain": [
       "col_0                   0   1\n",
       "heart_disease_present        \n",
       "0                      14   6\n",
       "1                       3  13"
      ]
     },
     "execution_count": 252,
     "metadata": {},
     "output_type": "execute_result"
    }
   ],
   "source": [
    "y_pred = np.where(full_model.predict_proba(X_test)[:,1]>0.22,1,0)\n",
    "pd.crosstab(y_test, y_pred)\n",
    "#roc_curve()"
   ]
  },
  {
   "cell_type": "code",
   "execution_count": 269,
   "metadata": {},
   "outputs": [
    {
     "name": "stdout",
     "output_type": "stream",
     "text": [
      "TN: 14 FP: 6 FN: 3 TP: 13\n",
      "True positive rate: 0.81\n",
      "False positive rate: 0.3\n",
      "Precision: 0.68\n",
      "f-measure: 0.74\n"
     ]
    }
   ],
   "source": [
    "y_pred = np.where(full_model.predict_proba(X_test)[:,1]>0.22,1,0)\n",
    "tn, fp, fn, tp = confusion_matrix(y_test, y_pred).ravel()\n",
    "print(\"TN:\",tn,\"FP:\",fp,\"FN:\",fn,\"TP:\",tp)\n",
    "recall = round(tp/(tp+fn),2)\n",
    "print(\"True positive rate:\",recall)\n",
    "print(\"False positive rate:\",round(fp/(fp+tn),2))\n",
    "precision = round(tp/(tp+fp),2)\n",
    "print(\"Precision:\",precision)\n",
    "print(\"f-measure:\",round(2*recall*precision/(recall+precision),2))"
   ]
  },
  {
   "cell_type": "markdown",
   "metadata": {},
   "source": [
    "81% of the positive cases are predicted as positive at the cost of true negative."
   ]
  },
  {
   "cell_type": "code",
   "execution_count": 121,
   "metadata": {},
   "outputs": [
    {
     "name": "stdout",
     "output_type": "stream",
     "text": [
      "predicted [1 1 0 1 1 1 1 0 0 1 1 1 0 1 1 1 1 0 0 0 1 0 0 0 1 0 1 1 0 1 1 0 0 0 0 1]\n",
      "actual    [0 1 0 1 0 1 1 0 0 1 1 1 0 0 1 1 1 0 0 0 0 0 0 0 1 0 1 1 0 1 1 1 1 0 0 1]\n"
     ]
    }
   ],
   "source": [
    "print(\"predicted\",y_pred)\n",
    "print(\"actual   \",np.array(y_test))"
   ]
  },
  {
   "cell_type": "markdown",
   "metadata": {},
   "source": [
    "Lesser the value of the log loss fuction better our model is."
   ]
  },
  {
   "cell_type": "markdown",
   "metadata": {},
   "source": [
    "Now importing the test data provided by the drivedata.org as __X_test__."
   ]
  },
  {
   "cell_type": "code",
   "execution_count": 135,
   "metadata": {},
   "outputs": [
    {
     "data": {
      "text/html": [
       "<div>\n",
       "<style scoped>\n",
       "    .dataframe tbody tr th:only-of-type {\n",
       "        vertical-align: middle;\n",
       "    }\n",
       "\n",
       "    .dataframe tbody tr th {\n",
       "        vertical-align: top;\n",
       "    }\n",
       "\n",
       "    .dataframe thead th {\n",
       "        text-align: right;\n",
       "    }\n",
       "</style>\n",
       "<table border=\"1\" class=\"dataframe\">\n",
       "  <thead>\n",
       "    <tr style=\"text-align: right;\">\n",
       "      <th></th>\n",
       "      <th>slope_of_peak_exercise_st_segment</th>\n",
       "      <th>thal</th>\n",
       "      <th>resting_blood_pressure</th>\n",
       "      <th>chest_pain_type</th>\n",
       "      <th>num_major_vessels</th>\n",
       "      <th>fasting_blood_sugar_gt_120_mg_per_dl</th>\n",
       "      <th>resting_ekg_results</th>\n",
       "      <th>serum_cholesterol_mg_per_dl</th>\n",
       "      <th>oldpeak_eq_st_depression</th>\n",
       "      <th>sex</th>\n",
       "      <th>age</th>\n",
       "      <th>max_heart_rate_achieved</th>\n",
       "      <th>exercise_induced_angina</th>\n",
       "    </tr>\n",
       "    <tr>\n",
       "      <th>patient_id</th>\n",
       "      <th></th>\n",
       "      <th></th>\n",
       "      <th></th>\n",
       "      <th></th>\n",
       "      <th></th>\n",
       "      <th></th>\n",
       "      <th></th>\n",
       "      <th></th>\n",
       "      <th></th>\n",
       "      <th></th>\n",
       "      <th></th>\n",
       "      <th></th>\n",
       "      <th></th>\n",
       "    </tr>\n",
       "  </thead>\n",
       "  <tbody>\n",
       "    <tr>\n",
       "      <th>olalu7</th>\n",
       "      <td>2</td>\n",
       "      <td>reversible_defect</td>\n",
       "      <td>170</td>\n",
       "      <td>1</td>\n",
       "      <td>0</td>\n",
       "      <td>0</td>\n",
       "      <td>2</td>\n",
       "      <td>288</td>\n",
       "      <td>0.2</td>\n",
       "      <td>1</td>\n",
       "      <td>59</td>\n",
       "      <td>159</td>\n",
       "      <td>0</td>\n",
       "    </tr>\n",
       "    <tr>\n",
       "      <th>z9n6mx</th>\n",
       "      <td>1</td>\n",
       "      <td>normal</td>\n",
       "      <td>138</td>\n",
       "      <td>4</td>\n",
       "      <td>0</td>\n",
       "      <td>0</td>\n",
       "      <td>0</td>\n",
       "      <td>183</td>\n",
       "      <td>1.4</td>\n",
       "      <td>0</td>\n",
       "      <td>35</td>\n",
       "      <td>182</td>\n",
       "      <td>0</td>\n",
       "    </tr>\n",
       "    <tr>\n",
       "      <th>5k4413</th>\n",
       "      <td>2</td>\n",
       "      <td>reversible_defect</td>\n",
       "      <td>120</td>\n",
       "      <td>4</td>\n",
       "      <td>0</td>\n",
       "      <td>0</td>\n",
       "      <td>2</td>\n",
       "      <td>177</td>\n",
       "      <td>2.5</td>\n",
       "      <td>1</td>\n",
       "      <td>43</td>\n",
       "      <td>120</td>\n",
       "      <td>1</td>\n",
       "    </tr>\n",
       "    <tr>\n",
       "      <th>mrg7q5</th>\n",
       "      <td>1</td>\n",
       "      <td>normal</td>\n",
       "      <td>102</td>\n",
       "      <td>3</td>\n",
       "      <td>1</td>\n",
       "      <td>0</td>\n",
       "      <td>0</td>\n",
       "      <td>318</td>\n",
       "      <td>0.0</td>\n",
       "      <td>0</td>\n",
       "      <td>60</td>\n",
       "      <td>160</td>\n",
       "      <td>0</td>\n",
       "    </tr>\n",
       "    <tr>\n",
       "      <th>uki4do</th>\n",
       "      <td>2</td>\n",
       "      <td>normal</td>\n",
       "      <td>138</td>\n",
       "      <td>4</td>\n",
       "      <td>1</td>\n",
       "      <td>0</td>\n",
       "      <td>2</td>\n",
       "      <td>166</td>\n",
       "      <td>3.6</td>\n",
       "      <td>1</td>\n",
       "      <td>61</td>\n",
       "      <td>125</td>\n",
       "      <td>1</td>\n",
       "    </tr>\n",
       "  </tbody>\n",
       "</table>\n",
       "</div>"
      ],
      "text/plain": [
       "            slope_of_peak_exercise_st_segment               thal  \\\n",
       "patient_id                                                         \n",
       "olalu7                                      2  reversible_defect   \n",
       "z9n6mx                                      1             normal   \n",
       "5k4413                                      2  reversible_defect   \n",
       "mrg7q5                                      1             normal   \n",
       "uki4do                                      2             normal   \n",
       "\n",
       "            resting_blood_pressure  chest_pain_type  num_major_vessels  \\\n",
       "patient_id                                                               \n",
       "olalu7                         170                1                  0   \n",
       "z9n6mx                         138                4                  0   \n",
       "5k4413                         120                4                  0   \n",
       "mrg7q5                         102                3                  1   \n",
       "uki4do                         138                4                  1   \n",
       "\n",
       "            fasting_blood_sugar_gt_120_mg_per_dl  resting_ekg_results  \\\n",
       "patient_id                                                              \n",
       "olalu7                                         0                    2   \n",
       "z9n6mx                                         0                    0   \n",
       "5k4413                                         0                    2   \n",
       "mrg7q5                                         0                    0   \n",
       "uki4do                                         0                    2   \n",
       "\n",
       "            serum_cholesterol_mg_per_dl  oldpeak_eq_st_depression  sex  age  \\\n",
       "patient_id                                                                    \n",
       "olalu7                              288                       0.2    1   59   \n",
       "z9n6mx                              183                       1.4    0   35   \n",
       "5k4413                              177                       2.5    1   43   \n",
       "mrg7q5                              318                       0.0    0   60   \n",
       "uki4do                              166                       3.6    1   61   \n",
       "\n",
       "            max_heart_rate_achieved  exercise_induced_angina  \n",
       "patient_id                                                    \n",
       "olalu7                          159                        0  \n",
       "z9n6mx                          182                        0  \n",
       "5k4413                          120                        1  \n",
       "mrg7q5                          160                        0  \n",
       "uki4do                          125                        1  "
      ]
     },
     "execution_count": 135,
     "metadata": {},
     "output_type": "execute_result"
    }
   ],
   "source": [
    "X_new_test = pd.read_csv('data/test_values.csv', index_col='patient_id')\n",
    "X_new_test.head()"
   ]
  },
  {
   "cell_type": "markdown",
   "metadata": {},
   "source": [
    "Predicting the label probability ( probability of presence of heart disease) for the test data."
   ]
  },
  {
   "cell_type": "code",
   "execution_count": 136,
   "metadata": {},
   "outputs": [],
   "source": [
    "y_pred_test = np.where(full_model.predict_proba(X_new_test)[:,1]>0.22,1,0)"
   ]
  },
  {
   "cell_type": "code",
   "execution_count": null,
   "metadata": {},
   "outputs": [],
   "source": []
  },
  {
   "cell_type": "code",
   "execution_count": 55,
   "metadata": {},
   "outputs": [
    {
     "data": {
      "text/html": [
       "<div>\n",
       "<style scoped>\n",
       "    .dataframe tbody tr th:only-of-type {\n",
       "        vertical-align: middle;\n",
       "    }\n",
       "\n",
       "    .dataframe tbody tr th {\n",
       "        vertical-align: top;\n",
       "    }\n",
       "\n",
       "    .dataframe thead th {\n",
       "        text-align: right;\n",
       "    }\n",
       "</style>\n",
       "<table border=\"1\" class=\"dataframe\">\n",
       "  <thead>\n",
       "    <tr style=\"text-align: right;\">\n",
       "      <th></th>\n",
       "      <th>slope_of_peak_exercise_st_segment</th>\n",
       "      <th>thal</th>\n",
       "      <th>resting_blood_pressure</th>\n",
       "      <th>chest_pain_type</th>\n",
       "      <th>num_major_vessels</th>\n",
       "      <th>fasting_blood_sugar_gt_120_mg_per_dl</th>\n",
       "      <th>resting_ekg_results</th>\n",
       "      <th>serum_cholesterol_mg_per_dl</th>\n",
       "      <th>oldpeak_eq_st_depression</th>\n",
       "      <th>sex</th>\n",
       "      <th>age</th>\n",
       "      <th>max_heart_rate_achieved</th>\n",
       "      <th>exercise_induced_angina</th>\n",
       "    </tr>\n",
       "    <tr>\n",
       "      <th>patient_id</th>\n",
       "      <th></th>\n",
       "      <th></th>\n",
       "      <th></th>\n",
       "      <th></th>\n",
       "      <th></th>\n",
       "      <th></th>\n",
       "      <th></th>\n",
       "      <th></th>\n",
       "      <th></th>\n",
       "      <th></th>\n",
       "      <th></th>\n",
       "      <th></th>\n",
       "      <th></th>\n",
       "    </tr>\n",
       "  </thead>\n",
       "  <tbody>\n",
       "    <tr>\n",
       "      <th>olalu7</th>\n",
       "      <td>2</td>\n",
       "      <td>reversible_defect</td>\n",
       "      <td>170</td>\n",
       "      <td>1</td>\n",
       "      <td>0</td>\n",
       "      <td>0</td>\n",
       "      <td>2</td>\n",
       "      <td>288</td>\n",
       "      <td>0.2</td>\n",
       "      <td>1</td>\n",
       "      <td>59</td>\n",
       "      <td>159</td>\n",
       "      <td>0</td>\n",
       "    </tr>\n",
       "    <tr>\n",
       "      <th>z9n6mx</th>\n",
       "      <td>1</td>\n",
       "      <td>normal</td>\n",
       "      <td>138</td>\n",
       "      <td>4</td>\n",
       "      <td>0</td>\n",
       "      <td>0</td>\n",
       "      <td>0</td>\n",
       "      <td>183</td>\n",
       "      <td>1.4</td>\n",
       "      <td>0</td>\n",
       "      <td>35</td>\n",
       "      <td>182</td>\n",
       "      <td>0</td>\n",
       "    </tr>\n",
       "  </tbody>\n",
       "</table>\n",
       "</div>"
      ],
      "text/plain": [
       "            slope_of_peak_exercise_st_segment               thal  \\\n",
       "patient_id                                                         \n",
       "olalu7                                      2  reversible_defect   \n",
       "z9n6mx                                      1             normal   \n",
       "\n",
       "            resting_blood_pressure  chest_pain_type  num_major_vessels  \\\n",
       "patient_id                                                               \n",
       "olalu7                         170                1                  0   \n",
       "z9n6mx                         138                4                  0   \n",
       "\n",
       "            fasting_blood_sugar_gt_120_mg_per_dl  resting_ekg_results  \\\n",
       "patient_id                                                              \n",
       "olalu7                                         0                    2   \n",
       "z9n6mx                                         0                    0   \n",
       "\n",
       "            serum_cholesterol_mg_per_dl  oldpeak_eq_st_depression  sex  age  \\\n",
       "patient_id                                                                    \n",
       "olalu7                              288                       0.2    1   59   \n",
       "z9n6mx                              183                       1.4    0   35   \n",
       "\n",
       "            max_heart_rate_achieved  exercise_induced_angina  \n",
       "patient_id                                                    \n",
       "olalu7                          159                        0  \n",
       "z9n6mx                          182                        0  "
      ]
     },
     "execution_count": 55,
     "metadata": {},
     "output_type": "execute_result"
    }
   ],
   "source": [
    "X_test.head(2)"
   ]
  },
  {
   "cell_type": "code",
   "execution_count": 137,
   "metadata": {},
   "outputs": [],
   "source": [
    "y_ans = y_pred_test"
   ]
  },
  {
   "cell_type": "markdown",
   "metadata": {},
   "source": [
    "Exporting the prediction as csv file."
   ]
  },
  {
   "cell_type": "code",
   "execution_count": 138,
   "metadata": {},
   "outputs": [],
   "source": [
    "submission = pd.read_csv('data/submission_format.csv')\n",
    "submission.heart_disease_present = y_ans\n",
    "submission.to_csv('2019-08-18_submission.csv', index=False)"
   ]
  },
  {
   "cell_type": "markdown",
   "metadata": {},
   "source": [
    "### Predicting the new instance"
   ]
  },
  {
   "cell_type": "markdown",
   "metadata": {},
   "source": [
    "To predict the new instance one need to create a dataframe and pass to the model. To dignose the patient one has to put the values of the different column provided in the dataframe. Below is an example of it."
   ]
  },
  {
   "cell_type": "code",
   "execution_count": 144,
   "metadata": {},
   "outputs": [
    {
     "name": "stdout",
     "output_type": "stream",
     "text": [
      "The patient has 1 probability of having heart disease\n"
     ]
    }
   ],
   "source": [
    "# putting the values for the different for the patient to be dignose\n",
    "\n",
    "df = pd.DataFrame({'slope_of_peak_exercise_st_segment':[2], \n",
    "                   'thal':['normal'], \n",
    "                   'resting_blood_pressure':[180],\n",
    "                   'chest_pain_type':[3], \n",
    "                   'num_major_vessels':[0],\n",
    "                   'fasting_blood_sugar_gt_120_mg_per_dl':[1], \n",
    "                   'resting_ekg_results':[1],\n",
    "                   'serum_cholesterol_mg_per_dl':[280], \n",
    "                   'oldpeak_eq_st_depression':[1.6], \n",
    "                   'sex':[1], \n",
    "                   'age':[65],\n",
    "                   'max_heart_rate_achieved':[130], \n",
    "                   'exercise_induced_angina':[1]}) \n",
    "\n",
    "# predicitng the probability\n",
    "instance = np.where(full_model.predict_proba(df)[:,1]>0.22,1,0)\n",
    "#instance[0]\n",
    "print('The patient has', round(instance[0],2), 'probability of having heart disease')"
   ]
  },
  {
   "cell_type": "markdown",
   "metadata": {},
   "source": [
    "# Reduced Logistic Regression"
   ]
  },
  {
   "cell_type": "markdown",
   "metadata": {},
   "source": [
    "Here we are reducing the features which are less important. We will select only three columns "
   ]
  },
  {
   "cell_type": "code",
   "execution_count": 80,
   "metadata": {},
   "outputs": [],
   "source": [
    "reduced_cols = ['num_major_vessels',\n",
    "                'slope_of_peak_exercise_st_segment',\n",
    "                'max_heart_rate_achieved',\n",
    "                'exercise_induced_angina',\n",
    "                'age',\n",
    "                'oldpeak_eq_st_depression',]\n",
    "\n",
    "numerical_features = ['slope_of_peak_exercise_st_segment', \n",
    "                      'resting_blood_pressure', \n",
    "                      'num_major_vessels',\n",
    "                      'fasting_blood_sugar_gt_120_mg_per_dl',\n",
    "                      'serum_cholesterol_mg_per_dl',\n",
    "                      'oldpeak_eq_st_depression',\n",
    "                      'age',\n",
    "                      'max_heart_rate_achieved']\n",
    "\n",
    "categorical_features = ['thal',\n",
    "                        'chest_pain_type', \n",
    "                        'resting_ekg_results']\n",
    "\n",
    "binary_features = ['sex',\n",
    "                   'exercise_induced_angina']"
   ]
  },
  {
   "cell_type": "code",
   "execution_count": 81,
   "metadata": {},
   "outputs": [],
   "source": [
    "categorical_features = list(set(categorical_features).intersection(set(reduced_cols)))\n",
    "numerical_features = list(set(numerical_features).intersection(set(reduced_cols)))\n",
    "binary_features = list(set(binary_features).intersection(set(reduced_cols)))"
   ]
  },
  {
   "cell_type": "code",
   "execution_count": 82,
   "metadata": {},
   "outputs": [
    {
     "name": "stderr",
     "output_type": "stream",
     "text": [
      "C:\\Users\\Surjeet\\Anaconda3\\lib\\site-packages\\sklearn\\linear_model\\_logistic.py:940: ConvergenceWarning: lbfgs failed to converge (status=1):\n",
      "STOP: TOTAL NO. of ITERATIONS REACHED LIMIT.\n",
      "\n",
      "Increase the number of iterations (max_iter) or scale the data as shown in:\n",
      "    https://scikit-learn.org/stable/modules/preprocessing.html\n",
      "Please also refer to the documentation for alternative solver options:\n",
      "    https://scikit-learn.org/stable/modules/linear_model.html#logistic-regression\n",
      "  extra_warning_msg=_LOGISTIC_SOLVER_CONVERGENCE_MSG)\n"
     ]
    },
    {
     "data": {
      "text/plain": [
       "LogisticRegression(C=1.0, class_weight=None, dual=False, fit_intercept=True,\n",
       "                   intercept_scaling=1, l1_ratio=None, max_iter=100,\n",
       "                   multi_class='auto', n_jobs=None, penalty='l2',\n",
       "                   random_state=None, solver='lbfgs', tol=0.0001, verbose=0,\n",
       "                   warm_start=False)"
      ]
     },
     "execution_count": 82,
     "metadata": {},
     "output_type": "execute_result"
    }
   ],
   "source": [
    "\n",
    "\n",
    "LogReg = LogisticRegression()\n",
    "# combining the pipelines and the logistic regression\n",
    "#reduce_model = Pipeline([\n",
    " #   ('feat_u', feat_u),\n",
    "  #  ('lr', LogisticRegression())\n",
    "#])\n",
    "LogReg.fit(X_train[reduced_cols],y_train)\n",
    "\n",
    "#y_pred = simple_lr.predict_proba(X_test[reduced_cols])\n",
    "\n",
    "\n",
    "#log_loss(y_test, y_pred, labels = None)"
   ]
  },
  {
   "cell_type": "code",
   "execution_count": 86,
   "metadata": {},
   "outputs": [
    {
     "data": {
      "text/plain": [
       "['num_major_vessels',\n",
       " 'slope_of_peak_exercise_st_segment',\n",
       " 'max_heart_rate_achieved',\n",
       " 'exercise_induced_angina',\n",
       " 'age',\n",
       " 'oldpeak_eq_st_depression']"
      ]
     },
     "execution_count": 86,
     "metadata": {},
     "output_type": "execute_result"
    }
   ],
   "source": [
    "list(X_train[reduced_cols].columns)"
   ]
  },
  {
   "cell_type": "code",
   "execution_count": 91,
   "metadata": {},
   "outputs": [
    {
     "data": {
      "text/html": [
       "<div>\n",
       "<style scoped>\n",
       "    .dataframe tbody tr th:only-of-type {\n",
       "        vertical-align: middle;\n",
       "    }\n",
       "\n",
       "    .dataframe tbody tr th {\n",
       "        vertical-align: top;\n",
       "    }\n",
       "\n",
       "    .dataframe thead th {\n",
       "        text-align: right;\n",
       "    }\n",
       "</style>\n",
       "<table border=\"1\" class=\"dataframe\">\n",
       "  <thead>\n",
       "    <tr style=\"text-align: right;\">\n",
       "      <th></th>\n",
       "      <th>num_major_vessels</th>\n",
       "      <th>slope_of_peak_exercise_st_segment</th>\n",
       "      <th>max_heart_rate_achieved</th>\n",
       "      <th>exercise_induced_angina</th>\n",
       "      <th>age</th>\n",
       "      <th>oldpeak_eq_st_depression</th>\n",
       "    </tr>\n",
       "  </thead>\n",
       "  <tbody>\n",
       "    <tr>\n",
       "      <th>hlmts5</th>\n",
       "      <td>1.0</td>\n",
       "      <td>1.0</td>\n",
       "      <td>130.0</td>\n",
       "      <td>0.0</td>\n",
       "      <td>71.0</td>\n",
       "      <td>0.0</td>\n",
       "    </tr>\n",
       "  </tbody>\n",
       "</table>\n",
       "</div>"
      ],
      "text/plain": [
       "        num_major_vessels  slope_of_peak_exercise_st_segment  \\\n",
       "hlmts5                1.0                                1.0   \n",
       "\n",
       "        max_heart_rate_achieved  exercise_induced_angina   age  \\\n",
       "hlmts5                    130.0                      0.0  71.0   \n",
       "\n",
       "        oldpeak_eq_st_depression  \n",
       "hlmts5                       0.0  "
      ]
     },
     "execution_count": 91,
     "metadata": {},
     "output_type": "execute_result"
    }
   ],
   "source": [
    "x = pd.DataFrame(X_train[reduced_cols].iloc[0]).T\n",
    "x"
   ]
  },
  {
   "cell_type": "code",
   "execution_count": 92,
   "metadata": {},
   "outputs": [
    {
     "data": {
      "text/plain": [
       "array([0], dtype=int64)"
      ]
     },
     "execution_count": 92,
     "metadata": {},
     "output_type": "execute_result"
    }
   ],
   "source": [
    "LogReg.predict(x)"
   ]
  },
  {
   "cell_type": "code",
   "execution_count": 97,
   "metadata": {},
   "outputs": [
    {
     "data": {
      "text/plain": [
       "array([[0.94519424, 0.05480576],\n",
       "       [0.87857021, 0.12142979],\n",
       "       [0.74031948, 0.25968052],\n",
       "       [0.38362992, 0.61637008],\n",
       "       [0.36682003, 0.63317997],\n",
       "       [0.01828657, 0.98171343],\n",
       "       [0.44356014, 0.55643986],\n",
       "       [0.18737991, 0.81262009],\n",
       "       [0.66727882, 0.33272118],\n",
       "       [0.36743826, 0.63256174],\n",
       "       [0.78502009, 0.21497991],\n",
       "       [0.21297986, 0.78702014],\n",
       "       [0.83058599, 0.16941401],\n",
       "       [0.2877396 , 0.7122604 ],\n",
       "       [0.61322768, 0.38677232],\n",
       "       [0.2351522 , 0.7648478 ],\n",
       "       [0.9028104 , 0.0971896 ],\n",
       "       [0.44737862, 0.55262138],\n",
       "       [0.93693241, 0.06306759],\n",
       "       [0.56093611, 0.43906389],\n",
       "       [0.89724625, 0.10275375],\n",
       "       [0.05478196, 0.94521804],\n",
       "       [0.0283918 , 0.9716082 ],\n",
       "       [0.90900465, 0.09099535],\n",
       "       [0.07425557, 0.92574443],\n",
       "       [0.02994052, 0.97005948],\n",
       "       [0.25261628, 0.74738372],\n",
       "       [0.8743648 , 0.1256352 ],\n",
       "       [0.00235757, 0.99764243],\n",
       "       [0.93980187, 0.06019813],\n",
       "       [0.8805655 , 0.1194345 ],\n",
       "       [0.93883598, 0.06116402],\n",
       "       [0.14478973, 0.85521027],\n",
       "       [0.0563536 , 0.9436464 ],\n",
       "       [0.94451955, 0.05548045],\n",
       "       [0.94209696, 0.05790304]])"
      ]
     },
     "execution_count": 97,
     "metadata": {},
     "output_type": "execute_result"
    }
   ],
   "source": [
    "y_pred = LogReg.predict_proba(X_test[reduced_cols])\n",
    "y_pred"
   ]
  },
  {
   "cell_type": "code",
   "execution_count": 93,
   "metadata": {},
   "outputs": [],
   "source": [
    "pickle.dump(LogReg, open('log_reg.pkl','wb'))"
   ]
  },
  {
   "cell_type": "code",
   "execution_count": 439,
   "metadata": {},
   "outputs": [],
   "source": [
    "cols = [\"Thresholds\",'TP', 'FP', 'TN','FN']\n",
    "lst = []\n",
    "for i in np.arange(0,1.1,0.05):\n",
    "    y_pred = np.where(LogReg.predict_proba(X_test[reduced_cols])[:,1]>i,1,0)\n",
    "    tn, fp, fn, tp = confusion_matrix(y_test, y_pred).ravel()\n",
    "    lst.append([round(i,1),tp,fp,tn,fn])\n",
    "confusion_result = pd.DataFrame(lst, columns=cols)"
   ]
  },
  {
   "cell_type": "code",
   "execution_count": 442,
   "metadata": {},
   "outputs": [
    {
     "name": "stderr",
     "output_type": "stream",
     "text": [
      "C:\\Users\\Surjeet\\Anaconda3\\lib\\site-packages\\ipykernel_launcher.py:28: DeprecationWarning: \n",
      ".ix is deprecated. Please use\n",
      ".loc for label based indexing or\n",
      ".iloc for positional indexing\n",
      "\n",
      "See the documentation here:\n",
      "http://pandas.pydata.org/pandas-docs/stable/indexing.html#ix-indexer-is-deprecated\n",
      "C:\\Users\\Surjeet\\Anaconda3\\lib\\site-packages\\ipykernel_launcher.py:29: DeprecationWarning: \n",
      ".ix is deprecated. Please use\n",
      ".loc for label based indexing or\n",
      ".iloc for positional indexing\n",
      "\n",
      "See the documentation here:\n",
      "http://pandas.pydata.org/pandas-docs/stable/indexing.html#ix-indexer-is-deprecated\n",
      "C:\\Users\\Surjeet\\Anaconda3\\lib\\site-packages\\ipykernel_launcher.py:30: DeprecationWarning: \n",
      ".ix is deprecated. Please use\n",
      ".loc for label based indexing or\n",
      ".iloc for positional indexing\n",
      "\n",
      "See the documentation here:\n",
      "http://pandas.pydata.org/pandas-docs/stable/indexing.html#ix-indexer-is-deprecated\n",
      "C:\\Users\\Surjeet\\Anaconda3\\lib\\site-packages\\ipykernel_launcher.py:31: DeprecationWarning: \n",
      ".ix is deprecated. Please use\n",
      ".loc for label based indexing or\n",
      ".iloc for positional indexing\n",
      "\n",
      "See the documentation here:\n",
      "http://pandas.pydata.org/pandas-docs/stable/indexing.html#ix-indexer-is-deprecated\n",
      "C:\\Users\\Surjeet\\Anaconda3\\lib\\site-packages\\ipykernel_launcher.py:32: DeprecationWarning: \n",
      ".ix is deprecated. Please use\n",
      ".loc for label based indexing or\n",
      ".iloc for positional indexing\n",
      "\n",
      "See the documentation here:\n",
      "http://pandas.pydata.org/pandas-docs/stable/indexing.html#ix-indexer-is-deprecated\n"
     ]
    },
    {
     "data": {
      "text/html": [
       "<div>\n",
       "<style scoped>\n",
       "    .dataframe tbody tr th:only-of-type {\n",
       "        vertical-align: middle;\n",
       "    }\n",
       "\n",
       "    .dataframe tbody tr th {\n",
       "        vertical-align: top;\n",
       "    }\n",
       "\n",
       "    .dataframe thead th {\n",
       "        text-align: right;\n",
       "    }\n",
       "</style>\n",
       "<table border=\"1\" class=\"dataframe\">\n",
       "  <thead>\n",
       "    <tr style=\"text-align: right;\">\n",
       "      <th></th>\n",
       "      <th>Thresholds</th>\n",
       "      <th>recall</th>\n",
       "      <th>precision</th>\n",
       "      <th>f1</th>\n",
       "      <th>tpr</th>\n",
       "      <th>fpr</th>\n",
       "    </tr>\n",
       "  </thead>\n",
       "  <tbody>\n",
       "    <tr>\n",
       "      <th>0</th>\n",
       "      <td>0.0</td>\n",
       "      <td>1</td>\n",
       "      <td>0.444444</td>\n",
       "      <td>0.615385</td>\n",
       "      <td>1</td>\n",
       "      <td>1</td>\n",
       "    </tr>\n",
       "    <tr>\n",
       "      <th>1</th>\n",
       "      <td>0.0</td>\n",
       "      <td>1</td>\n",
       "      <td>0.444444</td>\n",
       "      <td>0.615385</td>\n",
       "      <td>1</td>\n",
       "      <td>1</td>\n",
       "    </tr>\n",
       "    <tr>\n",
       "      <th>2</th>\n",
       "      <td>0.1</td>\n",
       "      <td>1</td>\n",
       "      <td>0.484848</td>\n",
       "      <td>0.653061</td>\n",
       "      <td>1</td>\n",
       "      <td>0.85</td>\n",
       "    </tr>\n",
       "    <tr>\n",
       "      <th>3</th>\n",
       "      <td>0.2</td>\n",
       "      <td>0.8125</td>\n",
       "      <td>0.619048</td>\n",
       "      <td>0.702703</td>\n",
       "      <td>0.8125</td>\n",
       "      <td>0.4</td>\n",
       "    </tr>\n",
       "    <tr>\n",
       "      <th>4</th>\n",
       "      <td>0.2</td>\n",
       "      <td>0.8125</td>\n",
       "      <td>0.619048</td>\n",
       "      <td>0.702703</td>\n",
       "      <td>0.8125</td>\n",
       "      <td>0.4</td>\n",
       "    </tr>\n",
       "    <tr>\n",
       "      <th>5</th>\n",
       "      <td>0.2</td>\n",
       "      <td>0.8125</td>\n",
       "      <td>0.619048</td>\n",
       "      <td>0.702703</td>\n",
       "      <td>0.8125</td>\n",
       "      <td>0.4</td>\n",
       "    </tr>\n",
       "    <tr>\n",
       "      <th>6</th>\n",
       "      <td>0.3</td>\n",
       "      <td>0.8125</td>\n",
       "      <td>0.65</td>\n",
       "      <td>0.722222</td>\n",
       "      <td>0.8125</td>\n",
       "      <td>0.35</td>\n",
       "    </tr>\n",
       "    <tr>\n",
       "      <th>7</th>\n",
       "      <td>0.4</td>\n",
       "      <td>0.8125</td>\n",
       "      <td>0.8125</td>\n",
       "      <td>0.8125</td>\n",
       "      <td>0.8125</td>\n",
       "      <td>0.15</td>\n",
       "    </tr>\n",
       "    <tr>\n",
       "      <th>8</th>\n",
       "      <td>0.4</td>\n",
       "      <td>0.8125</td>\n",
       "      <td>0.8125</td>\n",
       "      <td>0.8125</td>\n",
       "      <td>0.8125</td>\n",
       "      <td>0.15</td>\n",
       "    </tr>\n",
       "    <tr>\n",
       "      <th>9</th>\n",
       "      <td>0.4</td>\n",
       "      <td>0.8125</td>\n",
       "      <td>0.8125</td>\n",
       "      <td>0.8125</td>\n",
       "      <td>0.8125</td>\n",
       "      <td>0.15</td>\n",
       "    </tr>\n",
       "    <tr>\n",
       "      <th>10</th>\n",
       "      <td>0.5</td>\n",
       "      <td>0.6875</td>\n",
       "      <td>0.785714</td>\n",
       "      <td>0.733333</td>\n",
       "      <td>0.6875</td>\n",
       "      <td>0.15</td>\n",
       "    </tr>\n",
       "    <tr>\n",
       "      <th>11</th>\n",
       "      <td>0.6</td>\n",
       "      <td>0.625</td>\n",
       "      <td>0.833333</td>\n",
       "      <td>0.714286</td>\n",
       "      <td>0.625</td>\n",
       "      <td>0.1</td>\n",
       "    </tr>\n",
       "    <tr>\n",
       "      <th>12</th>\n",
       "      <td>0.6</td>\n",
       "      <td>0.625</td>\n",
       "      <td>0.833333</td>\n",
       "      <td>0.714286</td>\n",
       "      <td>0.625</td>\n",
       "      <td>0.1</td>\n",
       "    </tr>\n",
       "    <tr>\n",
       "      <th>13</th>\n",
       "      <td>0.6</td>\n",
       "      <td>0.625</td>\n",
       "      <td>0.833333</td>\n",
       "      <td>0.714286</td>\n",
       "      <td>0.625</td>\n",
       "      <td>0.1</td>\n",
       "    </tr>\n",
       "    <tr>\n",
       "      <th>14</th>\n",
       "      <td>0.7</td>\n",
       "      <td>0.5625</td>\n",
       "      <td>0.818182</td>\n",
       "      <td>0.666667</td>\n",
       "      <td>0.5625</td>\n",
       "      <td>0.1</td>\n",
       "    </tr>\n",
       "    <tr>\n",
       "      <th>15</th>\n",
       "      <td>0.8</td>\n",
       "      <td>0.3125</td>\n",
       "      <td>0.833333</td>\n",
       "      <td>0.454545</td>\n",
       "      <td>0.3125</td>\n",
       "      <td>0.05</td>\n",
       "    </tr>\n",
       "    <tr>\n",
       "      <th>16</th>\n",
       "      <td>0.8</td>\n",
       "      <td>0.3125</td>\n",
       "      <td>0.833333</td>\n",
       "      <td>0.454545</td>\n",
       "      <td>0.3125</td>\n",
       "      <td>0.05</td>\n",
       "    </tr>\n",
       "    <tr>\n",
       "      <th>17</th>\n",
       "      <td>0.8</td>\n",
       "      <td>0.3125</td>\n",
       "      <td>0.833333</td>\n",
       "      <td>0.454545</td>\n",
       "      <td>0.3125</td>\n",
       "      <td>0.05</td>\n",
       "    </tr>\n",
       "    <tr>\n",
       "      <th>18</th>\n",
       "      <td>0.9</td>\n",
       "      <td>0.25</td>\n",
       "      <td>1</td>\n",
       "      <td>0.4</td>\n",
       "      <td>0.25</td>\n",
       "      <td>0</td>\n",
       "    </tr>\n",
       "    <tr>\n",
       "      <th>19</th>\n",
       "      <td>1.0</td>\n",
       "      <td>0</td>\n",
       "      <td>0</td>\n",
       "      <td>0</td>\n",
       "      <td>0</td>\n",
       "      <td>0</td>\n",
       "    </tr>\n",
       "    <tr>\n",
       "      <th>20</th>\n",
       "      <td>1.0</td>\n",
       "      <td>0</td>\n",
       "      <td>0</td>\n",
       "      <td>0</td>\n",
       "      <td>0</td>\n",
       "      <td>0</td>\n",
       "    </tr>\n",
       "    <tr>\n",
       "      <th>21</th>\n",
       "      <td>1.0</td>\n",
       "      <td>0</td>\n",
       "      <td>0</td>\n",
       "      <td>0</td>\n",
       "      <td>0</td>\n",
       "      <td>0</td>\n",
       "    </tr>\n",
       "  </tbody>\n",
       "</table>\n",
       "</div>"
      ],
      "text/plain": [
       "    Thresholds  recall precision        f1     tpr   fpr\n",
       "0          0.0       1  0.444444  0.615385       1     1\n",
       "1          0.0       1  0.444444  0.615385       1     1\n",
       "2          0.1       1  0.484848  0.653061       1  0.85\n",
       "3          0.2  0.8125  0.619048  0.702703  0.8125   0.4\n",
       "4          0.2  0.8125  0.619048  0.702703  0.8125   0.4\n",
       "5          0.2  0.8125  0.619048  0.702703  0.8125   0.4\n",
       "6          0.3  0.8125      0.65  0.722222  0.8125  0.35\n",
       "7          0.4  0.8125    0.8125    0.8125  0.8125  0.15\n",
       "8          0.4  0.8125    0.8125    0.8125  0.8125  0.15\n",
       "9          0.4  0.8125    0.8125    0.8125  0.8125  0.15\n",
       "10         0.5  0.6875  0.785714  0.733333  0.6875  0.15\n",
       "11         0.6   0.625  0.833333  0.714286   0.625   0.1\n",
       "12         0.6   0.625  0.833333  0.714286   0.625   0.1\n",
       "13         0.6   0.625  0.833333  0.714286   0.625   0.1\n",
       "14         0.7  0.5625  0.818182  0.666667  0.5625   0.1\n",
       "15         0.8  0.3125  0.833333  0.454545  0.3125  0.05\n",
       "16         0.8  0.3125  0.833333  0.454545  0.3125  0.05\n",
       "17         0.8  0.3125  0.833333  0.454545  0.3125  0.05\n",
       "18         0.9    0.25         1       0.4    0.25     0\n",
       "19         1.0       0         0         0       0     0\n",
       "20         1.0       0         0         0       0     0\n",
       "21         1.0       0         0         0       0     0"
      ]
     },
     "execution_count": 442,
     "metadata": {},
     "output_type": "execute_result"
    }
   ],
   "source": [
    "roc = calculate_metrics(confusion_result)\n",
    "roc.reset_index()"
   ]
  },
  {
   "cell_type": "code",
   "execution_count": 455,
   "metadata": {},
   "outputs": [
    {
     "data": {
      "image/png": "[encoded data removed]",
      "text/plain": [
       "<Figure size 576x504 with 1 Axes>"
      ]
     },
     "metadata": {
      "needs_background": "light"
     },
     "output_type": "display_data"
    }
   ],
   "source": [
    "figsize(8,7)\n",
    "plt.style.use('seaborn-dark-palette')\n",
    "thresholds = [str(t) for t in confusion_result['Thresholds']]\n",
    "plt.plot(roc['fpr'], roc['tpr'], 'bo-', label = 'reduced logistic regression',lw = 3);\n",
    "plt.plot(list(np.linspace(0, 1, num = 10)), list(np.linspace(0, 1, num = 10)), 'ro--', label = 'naive classifier');\n",
    "for x, y, s in zip(roc['fpr'], roc['tpr'], thresholds):\n",
    "    plt.text(x - 0.04,y + 0.02, s, fontdict={'size': 14});\n",
    "\n",
    "plt.legend(prop={'size':14})\n",
    "plt.xlim([0,1])\n",
    "plt.ylim([0,1])\n",
    "plt.ylabel('True Positive Rate', size = 16); plt.xlabel('False Positive Rate', size = 16);\n",
    "plt.title('ROC Curve for Heat Disease', size = 20);"
   ]
  },
  {
   "cell_type": "code",
   "execution_count": null,
   "metadata": {},
   "outputs": [],
   "source": [
    "#for i in np.arange(0.2,0.3,0.01):\n",
    " #   y_pred = np.where(LogReg.predict_proba(X_test[reduced_cols])[:,1]>i,1,0)\n",
    "  #  print(\"Threshold:\",i)\n",
    "   # print(confusion_matrix(y_test,y_pred))"
   ]
  },
  {
   "cell_type": "code",
   "execution_count": 445,
   "metadata": {},
   "outputs": [
    {
     "name": "stdout",
     "output_type": "stream",
     "text": [
      "TN: 12 FP: 8 FN: 3 TP: 13\n",
      "True positive rate: 0.81\n",
      "False positive rate: 0.4\n",
      "Precision: 0.62\n",
      "f-measure: 0.7\n"
     ]
    }
   ],
   "source": [
    "y_pred = np.where(LogReg.predict_proba(X_test[reduced_cols])[:,1]>0.22,1,0)\n",
    "tn, fp, fn, tp = confusion_matrix(y_test, y_pred).ravel()\n",
    "print(\"TN:\",tn,\"FP:\",fp,\"FN:\",fn,\"TP:\",tp)\n",
    "recall = round(tp/(tp+fn),2)\n",
    "print(\"True positive rate:\",recall)\n",
    "print(\"False positive rate:\",round(fp/(fp+tn),2))\n",
    "precision = round(tp/(tp+fp),2)\n",
    "print(\"Precision:\",precision)\n",
    "print(\"f-measure:\",round(2*recall*precision/(recall+precision),2))"
   ]
  },
  {
   "cell_type": "markdown",
   "metadata": {},
   "source": [
    "Still the true positive rate of the actual patients is 81%. There is no improvement in the model even after reducing the parameters. So we have to use some advanced model."
   ]
  },
  {
   "cell_type": "code",
   "execution_count": 106,
   "metadata": {
    "collapsed": true
   },
   "outputs": [],
   "source": [
    "# exporting the file into required format\n",
    "submission = pd.read_csv('data/submission_format.csv')\n",
    "submission.heart_disease_present = y_pred_test\n",
    "submission.to_csv('2019-08-18_reduced_submission.csv', index=False)"
   ]
  },
  {
   "cell_type": "code",
   "execution_count": 193,
   "metadata": {},
   "outputs": [],
   "source": [
    "param_grid = {'max_depth': range(3,10),\n",
    "              'min_samples_split': range(3,11,2),\n",
    "              'min_samples_leaf': range(3,11,2)}\n",
    "\n",
    "gs = GridSearchCV(RandomForestClassifier(),\n",
    "                  param_grid=param_grid,\n",
    "                  n_jobs=-1,\n",
    "                  cv=3,\n",
    "                  verbose=1)"
   ]
  },
  {
   "cell_type": "code",
   "execution_count": 198,
   "metadata": {},
   "outputs": [
    {
     "name": "stdout",
     "output_type": "stream",
     "text": [
      "Fitting 3 folds for each of 112 candidates, totalling 336 fits\n"
     ]
    },
    {
     "name": "stderr",
     "output_type": "stream",
     "text": [
      "[Parallel(n_jobs=-1)]: Using backend LokyBackend with 4 concurrent workers.\n",
      "[Parallel(n_jobs=-1)]: Done  42 tasks      | elapsed:    3.8s\n",
      "[Parallel(n_jobs=-1)]: Done 192 tasks      | elapsed:   16.8s\n",
      "[Parallel(n_jobs=-1)]: Done 336 out of 336 | elapsed:   30.1s finished\n"
     ]
    },
    {
     "data": {
      "text/plain": [
       "GridSearchCV(cv=3, error_score=nan,\n",
       "             estimator=RandomForestClassifier(bootstrap=True, ccp_alpha=0.0,\n",
       "                                              class_weight=None,\n",
       "                                              criterion='gini', max_depth=None,\n",
       "                                              max_features='auto',\n",
       "                                              max_leaf_nodes=None,\n",
       "                                              max_samples=None,\n",
       "                                              min_impurity_decrease=0.0,\n",
       "                                              min_impurity_split=None,\n",
       "                                              min_samples_leaf=1,\n",
       "                                              min_samples_split=2,\n",
       "                                              min_weight_fraction_leaf=0.0,\n",
       "                                              n_estimators=100, n_jobs=None,\n",
       "                                              oob_score=False,\n",
       "                                              random_state=None, verbose=0,\n",
       "                                              warm_start=False),\n",
       "             iid='deprecated', n_jobs=-1,\n",
       "             param_grid={'max_depth': range(3, 10),\n",
       "                         'min_samples_leaf': range(3, 11, 2),\n",
       "                         'min_samples_split': range(3, 11, 2)},\n",
       "             pre_dispatch='2*n_jobs', refit=True, return_train_score=False,\n",
       "             scoring=None, verbose=1)"
      ]
     },
     "execution_count": 198,
     "metadata": {},
     "output_type": "execute_result"
    }
   ],
   "source": [
    "gs.fit(X_train[reduced_cols], y_train)"
   ]
  },
  {
   "cell_type": "code",
   "execution_count": 199,
   "metadata": {},
   "outputs": [
    {
     "data": {
      "text/plain": [
       "{'max_depth': 3, 'min_samples_leaf': 3, 'min_samples_split': 9}"
      ]
     },
     "execution_count": 199,
     "metadata": {},
     "output_type": "execute_result"
    }
   ],
   "source": [
    "gs.best_params_"
   ]
  },
  {
   "cell_type": "code",
   "execution_count": 205,
   "metadata": {},
   "outputs": [],
   "source": [
    "y_pred = gs.predict_proba(X_test[reduced_cols])"
   ]
  },
  {
   "cell_type": "code",
   "execution_count": 448,
   "metadata": {},
   "outputs": [],
   "source": [
    "cols = [\"Thresholds\",'TP', 'FP', 'TN','FN']\n",
    "lst = []\n",
    "for i in np.arange(0,1.1,0.05):\n",
    "    y_pred = np.where(gs.predict_proba(X_test[reduced_cols])[:,1]>i,1,0)\n",
    "    tn, fp, fn, tp = confusion_matrix(y_test, y_pred).ravel()\n",
    "    lst.append([round(i,1),tp,fp,tn,fn])\n",
    "confusion_result = pd.DataFrame(lst, columns=cols)"
   ]
  },
  {
   "cell_type": "code",
   "execution_count": 449,
   "metadata": {},
   "outputs": [
    {
     "name": "stderr",
     "output_type": "stream",
     "text": [
      "C:\\Users\\Surjeet\\Anaconda3\\lib\\site-packages\\ipykernel_launcher.py:28: DeprecationWarning: \n",
      ".ix is deprecated. Please use\n",
      ".loc for label based indexing or\n",
      ".iloc for positional indexing\n",
      "\n",
      "See the documentation here:\n",
      "http://pandas.pydata.org/pandas-docs/stable/indexing.html#ix-indexer-is-deprecated\n",
      "C:\\Users\\Surjeet\\Anaconda3\\lib\\site-packages\\ipykernel_launcher.py:29: DeprecationWarning: \n",
      ".ix is deprecated. Please use\n",
      ".loc for label based indexing or\n",
      ".iloc for positional indexing\n",
      "\n",
      "See the documentation here:\n",
      "http://pandas.pydata.org/pandas-docs/stable/indexing.html#ix-indexer-is-deprecated\n",
      "C:\\Users\\Surjeet\\Anaconda3\\lib\\site-packages\\ipykernel_launcher.py:30: DeprecationWarning: \n",
      ".ix is deprecated. Please use\n",
      ".loc for label based indexing or\n",
      ".iloc for positional indexing\n",
      "\n",
      "See the documentation here:\n",
      "http://pandas.pydata.org/pandas-docs/stable/indexing.html#ix-indexer-is-deprecated\n",
      "C:\\Users\\Surjeet\\Anaconda3\\lib\\site-packages\\ipykernel_launcher.py:31: DeprecationWarning: \n",
      ".ix is deprecated. Please use\n",
      ".loc for label based indexing or\n",
      ".iloc for positional indexing\n",
      "\n",
      "See the documentation here:\n",
      "http://pandas.pydata.org/pandas-docs/stable/indexing.html#ix-indexer-is-deprecated\n",
      "C:\\Users\\Surjeet\\Anaconda3\\lib\\site-packages\\ipykernel_launcher.py:32: DeprecationWarning: \n",
      ".ix is deprecated. Please use\n",
      ".loc for label based indexing or\n",
      ".iloc for positional indexing\n",
      "\n",
      "See the documentation here:\n",
      "http://pandas.pydata.org/pandas-docs/stable/indexing.html#ix-indexer-is-deprecated\n"
     ]
    }
   ],
   "source": [
    "roc = calculate_metrics(confusion_result)\n",
    "roc = roc.reset_index()"
   ]
  },
  {
   "cell_type": "code",
   "execution_count": 456,
   "metadata": {},
   "outputs": [
    {
     "data": {
      "image/png": "[encoded data removed]",
      "text/plain": [
       "<Figure size 576x504 with 1 Axes>"
      ]
     },
     "metadata": {
      "needs_background": "light"
     },
     "output_type": "display_data"
    }
   ],
   "source": [
    "figsize(8, 7)\n",
    "plt.style.use('seaborn-dark-palette')\n",
    "thresholds = [str(t) for t in confusion_result['Thresholds']]\n",
    "plt.plot(roc['fpr'], roc['tpr'], 'bo-', label = 'random forest',lw = 3);\n",
    "plt.plot(list(np.linspace(0, 1, num = 10)), list(np.linspace(0, 1, num = 10)), 'ro--', label = 'naive classifier');\n",
    "for x, y, s in zip(roc['fpr'], roc['tpr'], thresholds):\n",
    "    plt.text(x - 0.04,y + 0.02, s, fontdict={'size': 14});\n",
    "\n",
    "plt.legend(prop={'size':14})\n",
    "plt.xlim([0,1])\n",
    "plt.ylim([0,1])\n",
    "plt.ylabel('True Positive Rate', size = 16); plt.xlabel('False Positive Rate', size = 16);\n",
    "plt.title('ROC Curve for Heat Disease', size = 20);"
   ]
  },
  {
   "cell_type": "code",
   "execution_count": null,
   "metadata": {},
   "outputs": [],
   "source": [
    "for i in np.arange(0.2,0.3,0.01):\n",
    "    y_pred = np.where(gs.predict_proba(X_test[reduced_cols])[:,1]>i,1,0)\n",
    "    print(\"Threshold:\",i)\n",
    "    print(confusion_matrix(y_test,y_pred))"
   ]
  },
  {
   "cell_type": "markdown",
   "metadata": {},
   "source": [
    "Here our main goal is to reduce the false negative because none of the patient should be deteced as negative if patient has the disease in actual. In parallel, we also have to minimize the false positive so that the minimum number of the patient detected as positve when they do not have disease actually."
   ]
  },
  {
   "cell_type": "code",
   "execution_count": 271,
   "metadata": {},
   "outputs": [
    {
     "name": "stdout",
     "output_type": "stream",
     "text": [
      "TN: 9 FP: 11 FN: 1 TP: 15\n",
      "True positive rate: 0.94\n",
      "False positive rate: 0.55\n",
      "Precision: 0.58\n",
      "f-measure: 0.72\n"
     ]
    }
   ],
   "source": [
    "y_pred = np.where(gs.predict_proba(X_test[reduced_cols])[:,1]>0.22,1,0)\n",
    "tn, fp, fn, tp = confusion_matrix(y_test, y_pred).ravel()\n",
    "print(\"TN:\",tn,\"FP:\",fp,\"FN:\",fn,\"TP:\",tp)\n",
    "recall = round(tp/(tp+fn),2)\n",
    "print(\"True positive rate:\",recall)\n",
    "print(\"False positive rate:\",round(fp/(fp+tn),2))\n",
    "precision = round(tp/(tp+fp),2)\n",
    "print(\"Precision:\",precision)\n",
    "print(\"f-measure:\",round(2*recall*precision/(recall+precision),2))"
   ]
  },
  {
   "cell_type": "code",
   "execution_count": 203,
   "metadata": {},
   "outputs": [
    {
     "data": {
      "text/plain": [
       "array([[16,  2],\n",
       "       [ 8, 10]], dtype=int64)"
      ]
     },
     "execution_count": 203,
     "metadata": {},
     "output_type": "execute_result"
    }
   ],
   "source": [
    "confusion_matrix(y_test,y_pred)\n",
    "#log_loss(y_test, y_pred, labels = None)"
   ]
  },
  {
   "cell_type": "markdown",
   "metadata": {},
   "source": [
    "## Test Values"
   ]
  },
  {
   "cell_type": "code",
   "execution_count": 33,
   "metadata": {
    "collapsed": true
   },
   "outputs": [],
   "source": [
    "X_test = pd.read_csv('data/test_values.csv', index_col='patient_id')"
   ]
  },
  {
   "cell_type": "code",
   "execution_count": 34,
   "metadata": {
    "collapsed": true
   },
   "outputs": [],
   "source": [
    "y_ans = simple_lr.predict(X_test[reduced_cols])"
   ]
  },
  {
   "cell_type": "code",
   "execution_count": 54,
   "metadata": {
    "collapsed": true
   },
   "outputs": [],
   "source": [
    "submission = pd.read_csv('data/submission_format.csv')"
   ]
  },
  {
   "cell_type": "code",
   "execution_count": 55,
   "metadata": {
    "collapsed": true
   },
   "outputs": [],
   "source": [
    "submission.heart_disease_present = y_ans"
   ]
  },
  {
   "cell_type": "code",
   "execution_count": 56,
   "metadata": {
    "collapsed": true
   },
   "outputs": [],
   "source": [
    "submission.to_csv('2019-08-18_submission.csv', index=False)"
   ]
  },
  {
   "cell_type": "markdown",
   "metadata": {},
   "source": [
    "## summary"
   ]
  },
  {
   "attachments": {
    "image.png": {
     "image/png": "[encoded data removed]"
    }
   },
   "cell_type": "markdown",
   "metadata": {
    "collapsed": true
   },
   "source": [
    "logistic regression\n",
    "![image.png](attachment:image.png)"
   ]
  },
  {
   "attachments": {
    "image.png": {
     "image/png": "[encoded data removed]"
    }
   },
   "cell_type": "markdown",
   "metadata": {},
   "source": [
    "reduced logistic regression\n",
    "![image.png](attachment:image.png)"
   ]
  },
  {
   "attachments": {
    "image.png": {
     "image/png": "[encoded data removed]"
    }
   },
   "cell_type": "markdown",
   "metadata": {},
   "source": [
    "random forest\n",
    "![image.png](attachment:image.png)"
   ]
  },
  {
   "cell_type": "markdown",
   "metadata": {},
   "source": [
    "After analyzing all of the three models, we conclude that the random forest with the threshold probability 0.22 is working. It increases not only the true positives but also reduces the false positive."
   ]
  },
  {
   "cell_type": "code",
   "execution_count": null,
   "metadata": {},
   "outputs": [],
   "source": []
  }
 ],
 "metadata": {
  "kernelspec": {
   "display_name": "Python 3",
   "language": "python",
   "name": "python3"
  },
  "language_info": {
   "codemirror_mode": {
    "name": "ipython",
    "version": 3
   },
   "file_extension": ".py",
   "mimetype": "text/x-python",
   "name": "python",
   "nbconvert_exporter": "python",
   "pygments_lexer": "ipython3",
   "version": "3.7.3"
  }
 },
 "nbformat": 4,
 "nbformat_minor": 2
}
